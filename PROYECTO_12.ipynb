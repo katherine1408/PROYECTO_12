{
 "cells": [
  {
   "cell_type": "markdown",
   "metadata": {},
   "source": [
    "# Descripción"
   ]
  },
  {
   "cell_type": "markdown",
   "metadata": {},
   "source": [
    "La compañía de seguros Sure Tomorrow quiere resolver varias tareas con la ayuda de machine learning y te pide que evalúes esa posibilidad.\n",
    "- Tarea 1: encontrar clientes que sean similares a un cliente determinado. Esto ayudará a los agentes de la compañía con el marketing.\n",
    "- Tarea 2: predecir la probabilidad de que un nuevo cliente reciba una prestación del seguro. ¿Puede un modelo de predictivo funcionar mejor que un modelo dummy?\n",
    "- Tarea 3: predecir el número de prestaciones de seguro que un nuevo cliente pueda recibir utilizando un modelo de regresión lineal.\n",
    "- Tarea 4: proteger los datos personales de los clientes sin afectar al modelo del ejercicio anterior. Es necesario desarrollar un algoritmo de transformación de datos que dificulte la recuperación de la información personal si los datos caen en manos equivocadas. Esto se denomina enmascaramiento u ofuscación de datos. Pero los datos deben protegerse de tal manera que no se vea afectada la calidad de los modelos de machine learning. No es necesario elegir el mejor modelo, basta con demostrar que el algoritmo funciona correctamente.\n"
   ]
  },
  {
   "cell_type": "markdown",
   "metadata": {},
   "source": [
    "# Preprocesamiento y exploración de datos\n",
    "\n",
    "## Inicialización"
   ]
  },
  {
   "cell_type": "code",
   "execution_count": 1,
   "metadata": {},
   "outputs": [
    {
     "name": "stdout",
     "output_type": "stream",
     "text": [
      "Requirement already satisfied: scikit-learn in c:\\users\\home\\appdata\\local\\programs\\python\\python312\\lib\\site-packages (1.6.1)\n",
      "Requirement already satisfied: numpy>=1.19.5 in c:\\users\\home\\appdata\\local\\programs\\python\\python312\\lib\\site-packages (from scikit-learn) (2.1.0)\n",
      "Requirement already satisfied: scipy>=1.6.0 in c:\\users\\home\\appdata\\local\\programs\\python\\python312\\lib\\site-packages (from scikit-learn) (1.15.2)\n",
      "Requirement already satisfied: joblib>=1.2.0 in c:\\users\\home\\appdata\\local\\programs\\python\\python312\\lib\\site-packages (from scikit-learn) (1.4.2)\n",
      "Requirement already satisfied: threadpoolctl>=3.1.0 in c:\\users\\home\\appdata\\local\\programs\\python\\python312\\lib\\site-packages (from scikit-learn) (3.6.0)\n",
      "Note: you may need to restart the kernel to use updated packages.\n"
     ]
    },
    {
     "name": "stderr",
     "output_type": "stream",
     "text": [
      "\n",
      "[notice] A new release of pip is available: 24.2 -> 25.0.1\n",
      "[notice] To update, run: python.exe -m pip install --upgrade pip\n"
     ]
    }
   ],
   "source": [
    "pip install scikit-learn --upgrade"
   ]
  },
  {
   "cell_type": "code",
   "execution_count": 2,
   "metadata": {},
   "outputs": [],
   "source": [
    "import numpy as np\n",
    "import pandas as pd\n",
    "\n",
    "import seaborn as sns\n",
    "import math\n",
    "import sklearn.linear_model\n",
    "import sklearn.metrics\n",
    "import sklearn.neighbors\n",
    "import sklearn.preprocessing\n",
    "from sklearn.neighbors import NearestNeighbors\n",
    "from sklearn.model_selection import train_test_split\n",
    "from sklearn.linear_model import LinearRegression\n",
    "from sklearn.metrics import mean_squared_error, r2_score\n",
    "from IPython.display import display"
   ]
  },
  {
   "cell_type": "markdown",
   "metadata": {},
   "source": [
    "## Carga de datos"
   ]
  },
  {
   "cell_type": "markdown",
   "metadata": {},
   "source": [
    "Carga los datos y haz una revisión básica para comprobar que no hay problemas obvios."
   ]
  },
  {
   "cell_type": "code",
   "execution_count": 3,
   "metadata": {},
   "outputs": [],
   "source": [
    "df = pd.read_csv('insurance_us.csv')"
   ]
  },
  {
   "cell_type": "markdown",
   "metadata": {},
   "source": [
    "Renombramos las columnas para que el código se vea más coherente con su estilo."
   ]
  },
  {
   "cell_type": "code",
   "execution_count": 4,
   "metadata": {},
   "outputs": [],
   "source": [
    "df = df.rename(columns={'Gender': 'gender', 'Age': 'age', 'Salary': 'income', 'Family members': 'family_members', 'Insurance benefits': 'insurance_benefits'})"
   ]
  },
  {
   "cell_type": "code",
   "execution_count": 5,
   "metadata": {},
   "outputs": [
    {
     "data": {
      "text/html": [
       "<div>\n",
       "<style scoped>\n",
       "    .dataframe tbody tr th:only-of-type {\n",
       "        vertical-align: middle;\n",
       "    }\n",
       "\n",
       "    .dataframe tbody tr th {\n",
       "        vertical-align: top;\n",
       "    }\n",
       "\n",
       "    .dataframe thead th {\n",
       "        text-align: right;\n",
       "    }\n",
       "</style>\n",
       "<table border=\"1\" class=\"dataframe\">\n",
       "  <thead>\n",
       "    <tr style=\"text-align: right;\">\n",
       "      <th></th>\n",
       "      <th>gender</th>\n",
       "      <th>age</th>\n",
       "      <th>income</th>\n",
       "      <th>family_members</th>\n",
       "      <th>insurance_benefits</th>\n",
       "    </tr>\n",
       "  </thead>\n",
       "  <tbody>\n",
       "    <tr>\n",
       "      <th>1333</th>\n",
       "      <td>0</td>\n",
       "      <td>28.0</td>\n",
       "      <td>35100.0</td>\n",
       "      <td>0</td>\n",
       "      <td>0</td>\n",
       "    </tr>\n",
       "    <tr>\n",
       "      <th>2699</th>\n",
       "      <td>0</td>\n",
       "      <td>40.0</td>\n",
       "      <td>39400.0</td>\n",
       "      <td>3</td>\n",
       "      <td>0</td>\n",
       "    </tr>\n",
       "    <tr>\n",
       "      <th>869</th>\n",
       "      <td>1</td>\n",
       "      <td>24.0</td>\n",
       "      <td>33100.0</td>\n",
       "      <td>1</td>\n",
       "      <td>0</td>\n",
       "    </tr>\n",
       "    <tr>\n",
       "      <th>3453</th>\n",
       "      <td>0</td>\n",
       "      <td>27.0</td>\n",
       "      <td>28500.0</td>\n",
       "      <td>0</td>\n",
       "      <td>0</td>\n",
       "    </tr>\n",
       "    <tr>\n",
       "      <th>2328</th>\n",
       "      <td>1</td>\n",
       "      <td>30.0</td>\n",
       "      <td>57200.0</td>\n",
       "      <td>1</td>\n",
       "      <td>0</td>\n",
       "    </tr>\n",
       "    <tr>\n",
       "      <th>1839</th>\n",
       "      <td>0</td>\n",
       "      <td>32.0</td>\n",
       "      <td>48500.0</td>\n",
       "      <td>1</td>\n",
       "      <td>0</td>\n",
       "    </tr>\n",
       "    <tr>\n",
       "      <th>4946</th>\n",
       "      <td>1</td>\n",
       "      <td>26.0</td>\n",
       "      <td>32600.0</td>\n",
       "      <td>2</td>\n",
       "      <td>0</td>\n",
       "    </tr>\n",
       "    <tr>\n",
       "      <th>3891</th>\n",
       "      <td>0</td>\n",
       "      <td>18.0</td>\n",
       "      <td>18900.0</td>\n",
       "      <td>1</td>\n",
       "      <td>0</td>\n",
       "    </tr>\n",
       "    <tr>\n",
       "      <th>2177</th>\n",
       "      <td>1</td>\n",
       "      <td>41.0</td>\n",
       "      <td>44700.0</td>\n",
       "      <td>1</td>\n",
       "      <td>0</td>\n",
       "    </tr>\n",
       "    <tr>\n",
       "      <th>1236</th>\n",
       "      <td>0</td>\n",
       "      <td>23.0</td>\n",
       "      <td>35000.0</td>\n",
       "      <td>2</td>\n",
       "      <td>0</td>\n",
       "    </tr>\n",
       "  </tbody>\n",
       "</table>\n",
       "</div>"
      ],
      "text/plain": [
       "      gender   age   income  family_members  insurance_benefits\n",
       "1333       0  28.0  35100.0               0                   0\n",
       "2699       0  40.0  39400.0               3                   0\n",
       "869        1  24.0  33100.0               1                   0\n",
       "3453       0  27.0  28500.0               0                   0\n",
       "2328       1  30.0  57200.0               1                   0\n",
       "1839       0  32.0  48500.0               1                   0\n",
       "4946       1  26.0  32600.0               2                   0\n",
       "3891       0  18.0  18900.0               1                   0\n",
       "2177       1  41.0  44700.0               1                   0\n",
       "1236       0  23.0  35000.0               2                   0"
      ]
     },
     "execution_count": 5,
     "metadata": {},
     "output_type": "execute_result"
    }
   ],
   "source": [
    "df.sample(10)"
   ]
  },
  {
   "cell_type": "code",
   "execution_count": 6,
   "metadata": {},
   "outputs": [
    {
     "name": "stdout",
     "output_type": "stream",
     "text": [
      "<class 'pandas.core.frame.DataFrame'>\n",
      "RangeIndex: 5000 entries, 0 to 4999\n",
      "Data columns (total 5 columns):\n",
      " #   Column              Non-Null Count  Dtype  \n",
      "---  ------              --------------  -----  \n",
      " 0   gender              5000 non-null   int64  \n",
      " 1   age                 5000 non-null   float64\n",
      " 2   income              5000 non-null   float64\n",
      " 3   family_members      5000 non-null   int64  \n",
      " 4   insurance_benefits  5000 non-null   int64  \n",
      "dtypes: float64(2), int64(3)\n",
      "memory usage: 195.4 KB\n"
     ]
    }
   ],
   "source": [
    "df.info()"
   ]
  },
  {
   "cell_type": "code",
   "execution_count": 7,
   "metadata": {},
   "outputs": [],
   "source": [
    "# puede que queramos cambiar el tipo de edad (de float a int) aunque esto no es crucial\n",
    "\n",
    "# escribe tu conversión aquí si lo deseas:\n",
    "df['age'] = df['age'].astype(int)"
   ]
  },
  {
   "cell_type": "code",
   "execution_count": 8,
   "metadata": {},
   "outputs": [
    {
     "name": "stdout",
     "output_type": "stream",
     "text": [
      "<class 'pandas.core.frame.DataFrame'>\n",
      "RangeIndex: 5000 entries, 0 to 4999\n",
      "Data columns (total 5 columns):\n",
      " #   Column              Non-Null Count  Dtype  \n",
      "---  ------              --------------  -----  \n",
      " 0   gender              5000 non-null   int64  \n",
      " 1   age                 5000 non-null   int64  \n",
      " 2   income              5000 non-null   float64\n",
      " 3   family_members      5000 non-null   int64  \n",
      " 4   insurance_benefits  5000 non-null   int64  \n",
      "dtypes: float64(1), int64(4)\n",
      "memory usage: 195.4 KB\n"
     ]
    }
   ],
   "source": [
    "# comprueba que la conversión se haya realizado con éxito\n",
    "df.info()"
   ]
  },
  {
   "cell_type": "code",
   "execution_count": 9,
   "metadata": {},
   "outputs": [],
   "source": [
    "# ahora echa un vistazo a las estadísticas descriptivas de los datos.# ¿Se ve todo bien?"
   ]
  },
  {
   "cell_type": "code",
   "execution_count": 10,
   "metadata": {},
   "outputs": [
    {
     "data": {
      "text/html": [
       "<div>\n",
       "<style scoped>\n",
       "    .dataframe tbody tr th:only-of-type {\n",
       "        vertical-align: middle;\n",
       "    }\n",
       "\n",
       "    .dataframe tbody tr th {\n",
       "        vertical-align: top;\n",
       "    }\n",
       "\n",
       "    .dataframe thead th {\n",
       "        text-align: right;\n",
       "    }\n",
       "</style>\n",
       "<table border=\"1\" class=\"dataframe\">\n",
       "  <thead>\n",
       "    <tr style=\"text-align: right;\">\n",
       "      <th></th>\n",
       "      <th>gender</th>\n",
       "      <th>age</th>\n",
       "      <th>income</th>\n",
       "      <th>family_members</th>\n",
       "      <th>insurance_benefits</th>\n",
       "    </tr>\n",
       "  </thead>\n",
       "  <tbody>\n",
       "    <tr>\n",
       "      <th>count</th>\n",
       "      <td>5000.000000</td>\n",
       "      <td>5000.000000</td>\n",
       "      <td>5000.000000</td>\n",
       "      <td>5000.000000</td>\n",
       "      <td>5000.000000</td>\n",
       "    </tr>\n",
       "    <tr>\n",
       "      <th>mean</th>\n",
       "      <td>0.499000</td>\n",
       "      <td>30.952800</td>\n",
       "      <td>39916.360000</td>\n",
       "      <td>1.194200</td>\n",
       "      <td>0.148000</td>\n",
       "    </tr>\n",
       "    <tr>\n",
       "      <th>std</th>\n",
       "      <td>0.500049</td>\n",
       "      <td>8.440807</td>\n",
       "      <td>9900.083569</td>\n",
       "      <td>1.091387</td>\n",
       "      <td>0.463183</td>\n",
       "    </tr>\n",
       "    <tr>\n",
       "      <th>min</th>\n",
       "      <td>0.000000</td>\n",
       "      <td>18.000000</td>\n",
       "      <td>5300.000000</td>\n",
       "      <td>0.000000</td>\n",
       "      <td>0.000000</td>\n",
       "    </tr>\n",
       "    <tr>\n",
       "      <th>25%</th>\n",
       "      <td>0.000000</td>\n",
       "      <td>24.000000</td>\n",
       "      <td>33300.000000</td>\n",
       "      <td>0.000000</td>\n",
       "      <td>0.000000</td>\n",
       "    </tr>\n",
       "    <tr>\n",
       "      <th>50%</th>\n",
       "      <td>0.000000</td>\n",
       "      <td>30.000000</td>\n",
       "      <td>40200.000000</td>\n",
       "      <td>1.000000</td>\n",
       "      <td>0.000000</td>\n",
       "    </tr>\n",
       "    <tr>\n",
       "      <th>75%</th>\n",
       "      <td>1.000000</td>\n",
       "      <td>37.000000</td>\n",
       "      <td>46600.000000</td>\n",
       "      <td>2.000000</td>\n",
       "      <td>0.000000</td>\n",
       "    </tr>\n",
       "    <tr>\n",
       "      <th>max</th>\n",
       "      <td>1.000000</td>\n",
       "      <td>65.000000</td>\n",
       "      <td>79000.000000</td>\n",
       "      <td>6.000000</td>\n",
       "      <td>5.000000</td>\n",
       "    </tr>\n",
       "  </tbody>\n",
       "</table>\n",
       "</div>"
      ],
      "text/plain": [
       "            gender          age        income  family_members  \\\n",
       "count  5000.000000  5000.000000   5000.000000     5000.000000   \n",
       "mean      0.499000    30.952800  39916.360000        1.194200   \n",
       "std       0.500049     8.440807   9900.083569        1.091387   \n",
       "min       0.000000    18.000000   5300.000000        0.000000   \n",
       "25%       0.000000    24.000000  33300.000000        0.000000   \n",
       "50%       0.000000    30.000000  40200.000000        1.000000   \n",
       "75%       1.000000    37.000000  46600.000000        2.000000   \n",
       "max       1.000000    65.000000  79000.000000        6.000000   \n",
       "\n",
       "       insurance_benefits  \n",
       "count         5000.000000  \n",
       "mean             0.148000  \n",
       "std              0.463183  \n",
       "min              0.000000  \n",
       "25%              0.000000  \n",
       "50%              0.000000  \n",
       "75%              0.000000  \n",
       "max              5.000000  "
      ]
     },
     "execution_count": 10,
     "metadata": {},
     "output_type": "execute_result"
    }
   ],
   "source": [
    "df.describe()"
   ]
  },
  {
   "cell_type": "markdown",
   "metadata": {},
   "source": [
    "## Análisis exploratorio de datos"
   ]
  },
  {
   "cell_type": "markdown",
   "metadata": {},
   "source": [
    "Vamos a comprobar rápidamente si existen determinados grupos de clientes observando el gráfico de pares."
   ]
  },
  {
   "cell_type": "code",
   "execution_count": 11,
   "metadata": {},
   "outputs": [
    {
     "data": {
      "image/png": "[encoded data removed]",
      "text/plain": [
       "<Figure size 1200x1200 with 30 Axes>"
      ]
     },
     "metadata": {},
     "output_type": "display_data"
    }
   ],
   "source": [
    "g = sns.pairplot(df, kind='hist')\n",
    "g.fig.set_size_inches(12, 12)"
   ]
  },
  {
   "cell_type": "markdown",
   "metadata": {},
   "source": [
    "De acuerdo, es un poco complicado detectar grupos obvios (clústeres) ya que es difícil combinar diversas variables simultáneamente (para analizar distribuciones multivariadas). Ahí es donde LA y ML pueden ser bastante útiles."
   ]
  },
  {
   "cell_type": "markdown",
   "metadata": {},
   "source": [
    "# Tarea 1. Clientes similares"
   ]
  },
  {
   "cell_type": "markdown",
   "metadata": {},
   "source": [
    "En el lenguaje de ML, es necesario desarrollar un procedimiento que devuelva los k vecinos más cercanos (objetos) para un objeto dado basándose en la distancia entre los objetos.\n",
    "Es posible que quieras revisar las siguientes lecciones (capítulo -> lección)- Distancia entre vectores -> Distancia euclidiana\n",
    "- Distancia entre vectores -> Distancia Manhattan\n",
    "\n",
    "Para resolver la tarea, podemos probar diferentes métricas de distancia."
   ]
  },
  {
   "cell_type": "markdown",
   "metadata": {},
   "source": [
    "Escribe una función que devuelva los k vecinos más cercanos para un $n^{th}$ objeto basándose en una métrica de distancia especificada. A la hora de realizar esta tarea no debe tenerse en cuenta el número de prestaciones de seguro recibidas.\n",
    "Puedes utilizar una implementación ya existente del algoritmo kNN de scikit-learn (consulta [el enlace](https://scikit-learn.org/stable/modules/generated/sklearn.neighbors.NearestNeighbors.html#sklearn.neighbors.NearestNeighbors)) o tu propia implementación.\n",
    "Pruébalo para cuatro combinaciones de dos casos- Escalado\n",
    "  - los datos no están escalados\n",
    "  - los datos se escalan con el escalador [MaxAbsScaler](https://scikit-learn.org/stable/modules/generated/sklearn.preprocessing.MaxAbsScaler.html)\n",
    "- Métricas de distancia\n",
    "  - Euclidiana\n",
    "  - Manhattan\n",
    "\n",
    "Responde a estas preguntas:- ¿El hecho de que los datos no estén escalados afecta al algoritmo kNN? Si es así, ¿cómo se manifiesta?- ¿Qué tan similares son los resultados al utilizar la métrica de distancia Manhattan (independientemente del escalado)?"
   ]
  },
  {
   "cell_type": "code",
   "execution_count": 12,
   "metadata": {},
   "outputs": [],
   "source": [
    "feature_names = ['gender', 'age', 'income', 'family_members']"
   ]
  },
  {
   "cell_type": "code",
   "execution_count": 13,
   "metadata": {},
   "outputs": [],
   "source": [
    "def get_knn(df, n, k, metric):\n",
    "    \n",
    "    \"\"\"\n",
    "    Devuelve los k vecinos más cercanos\n",
    "\n",
    "    :param df: DataFrame de pandas utilizado para encontrar objetos similares dentro del mismo lugar    :\n",
    "    param n: número de objetos para los que se buscan los vecinos más cercanos    :\n",
    "    param k: número de vecinos más cercanos a devolver\n",
    "    :param métrica: nombre de la métrica de distancia    \"\"\"\n",
    "\n",
    "    nbrs = NearestNeighbors(n_neighbors=k, metric=metric)\n",
    "    nbrs.fit(df[feature_names]) # <t\n",
    "    nbrs_distances, nbrs_indices = nbrs.kneighbors([df.iloc[n][feature_names]], k, return_distance=True)\n",
    "    \n",
    "    df_res = pd.concat([\n",
    "        df.iloc[nbrs_indices[0]], \n",
    "        pd.DataFrame(nbrs_distances.T, index=nbrs_indices[0], columns=['distance'])\n",
    "        ], axis=1)\n",
    "    \n",
    "    return df_res"
   ]
  },
  {
   "cell_type": "markdown",
   "metadata": {},
   "source": [
    "Escalar datos."
   ]
  },
  {
   "cell_type": "code",
   "execution_count": 14,
   "metadata": {},
   "outputs": [
    {
     "name": "stderr",
     "output_type": "stream",
     "text": [
      "C:\\Users\\Home\\AppData\\Local\\Temp\\ipykernel_3868\\760832288.py:6: FutureWarning: Setting an item of incompatible dtype is deprecated and will raise in a future error of pandas. Value '[0.63076923 0.70769231 0.44615385 ... 0.30769231 0.33846154 0.43076923]' has dtype incompatible with int64, please explicitly cast to a compatible dtype first.\n",
      "  df_scaled.loc[:, feature_names] = transformer_mas.transform(df[feature_names].to_numpy())\n",
      "C:\\Users\\Home\\AppData\\Local\\Temp\\ipykernel_3868\\760832288.py:6: FutureWarning: Setting an item of incompatible dtype is deprecated and will raise in a future error of pandas. Value '[0.16666667 0.16666667 0.         ... 0.33333333 0.5        0.16666667]' has dtype incompatible with int64, please explicitly cast to a compatible dtype first.\n",
      "  df_scaled.loc[:, feature_names] = transformer_mas.transform(df[feature_names].to_numpy())\n"
     ]
    }
   ],
   "source": [
    "feature_names = ['gender', 'age', 'income', 'family_members']\n",
    "\n",
    "transformer_mas = sklearn.preprocessing.MaxAbsScaler().fit(df[feature_names].to_numpy())\n",
    "\n",
    "df_scaled = df.copy()\n",
    "df_scaled.loc[:, feature_names] = transformer_mas.transform(df[feature_names].to_numpy())"
   ]
  },
  {
   "cell_type": "code",
   "execution_count": 15,
   "metadata": {},
   "outputs": [
    {
     "data": {
      "text/html": [
       "<div>\n",
       "<style scoped>\n",
       "    .dataframe tbody tr th:only-of-type {\n",
       "        vertical-align: middle;\n",
       "    }\n",
       "\n",
       "    .dataframe tbody tr th {\n",
       "        vertical-align: top;\n",
       "    }\n",
       "\n",
       "    .dataframe thead th {\n",
       "        text-align: right;\n",
       "    }\n",
       "</style>\n",
       "<table border=\"1\" class=\"dataframe\">\n",
       "  <thead>\n",
       "    <tr style=\"text-align: right;\">\n",
       "      <th></th>\n",
       "      <th>gender</th>\n",
       "      <th>age</th>\n",
       "      <th>income</th>\n",
       "      <th>family_members</th>\n",
       "      <th>insurance_benefits</th>\n",
       "    </tr>\n",
       "  </thead>\n",
       "  <tbody>\n",
       "    <tr>\n",
       "      <th>3641</th>\n",
       "      <td>1</td>\n",
       "      <td>0.369231</td>\n",
       "      <td>0.546835</td>\n",
       "      <td>0.166667</td>\n",
       "      <td>0</td>\n",
       "    </tr>\n",
       "    <tr>\n",
       "      <th>3405</th>\n",
       "      <td>1</td>\n",
       "      <td>0.338462</td>\n",
       "      <td>0.569620</td>\n",
       "      <td>0.666667</td>\n",
       "      <td>0</td>\n",
       "    </tr>\n",
       "    <tr>\n",
       "      <th>4442</th>\n",
       "      <td>1</td>\n",
       "      <td>0.584615</td>\n",
       "      <td>0.134177</td>\n",
       "      <td>0.666667</td>\n",
       "      <td>0</td>\n",
       "    </tr>\n",
       "    <tr>\n",
       "      <th>3168</th>\n",
       "      <td>1</td>\n",
       "      <td>0.753846</td>\n",
       "      <td>0.483544</td>\n",
       "      <td>0.166667</td>\n",
       "      <td>2</td>\n",
       "    </tr>\n",
       "    <tr>\n",
       "      <th>4271</th>\n",
       "      <td>0</td>\n",
       "      <td>0.307692</td>\n",
       "      <td>0.451899</td>\n",
       "      <td>0.166667</td>\n",
       "      <td>0</td>\n",
       "    </tr>\n",
       "  </tbody>\n",
       "</table>\n",
       "</div>"
      ],
      "text/plain": [
       "      gender       age    income  family_members  insurance_benefits\n",
       "3641       1  0.369231  0.546835        0.166667                   0\n",
       "3405       1  0.338462  0.569620        0.666667                   0\n",
       "4442       1  0.584615  0.134177        0.666667                   0\n",
       "3168       1  0.753846  0.483544        0.166667                   2\n",
       "4271       0  0.307692  0.451899        0.166667                   0"
      ]
     },
     "execution_count": 15,
     "metadata": {},
     "output_type": "execute_result"
    }
   ],
   "source": [
    "df_scaled.sample(5)"
   ]
  },
  {
   "cell_type": "markdown",
   "metadata": {},
   "source": [
    "Ahora, vamos a obtener registros similares para uno determinado, para cada combinación"
   ]
  },
  {
   "cell_type": "code",
   "execution_count": 16,
   "metadata": {},
   "outputs": [
    {
     "name": "stderr",
     "output_type": "stream",
     "text": [
      "c:\\Users\\Home\\AppData\\Local\\Programs\\Python\\Python312\\Lib\\site-packages\\sklearn\\utils\\validation.py:2739: UserWarning: X does not have valid feature names, but NearestNeighbors was fitted with feature names\n",
      "  warnings.warn(\n"
     ]
    },
    {
     "data": {
      "text/html": [
       "<div>\n",
       "<style scoped>\n",
       "    .dataframe tbody tr th:only-of-type {\n",
       "        vertical-align: middle;\n",
       "    }\n",
       "\n",
       "    .dataframe tbody tr th {\n",
       "        vertical-align: top;\n",
       "    }\n",
       "\n",
       "    .dataframe thead th {\n",
       "        text-align: right;\n",
       "    }\n",
       "</style>\n",
       "<table border=\"1\" class=\"dataframe\">\n",
       "  <thead>\n",
       "    <tr style=\"text-align: right;\">\n",
       "      <th></th>\n",
       "      <th>gender</th>\n",
       "      <th>age</th>\n",
       "      <th>income</th>\n",
       "      <th>family_members</th>\n",
       "      <th>insurance_benefits</th>\n",
       "      <th>distance</th>\n",
       "    </tr>\n",
       "  </thead>\n",
       "  <tbody>\n",
       "    <tr>\n",
       "      <th>0</th>\n",
       "      <td>1</td>\n",
       "      <td>41</td>\n",
       "      <td>49600.0</td>\n",
       "      <td>1</td>\n",
       "      <td>0</td>\n",
       "      <td>0.000000</td>\n",
       "    </tr>\n",
       "    <tr>\n",
       "      <th>2022</th>\n",
       "      <td>1</td>\n",
       "      <td>41</td>\n",
       "      <td>49600.0</td>\n",
       "      <td>0</td>\n",
       "      <td>0</td>\n",
       "      <td>1.000000</td>\n",
       "    </tr>\n",
       "    <tr>\n",
       "      <th>1225</th>\n",
       "      <td>0</td>\n",
       "      <td>42</td>\n",
       "      <td>49600.0</td>\n",
       "      <td>0</td>\n",
       "      <td>1</td>\n",
       "      <td>1.732051</td>\n",
       "    </tr>\n",
       "    <tr>\n",
       "      <th>4031</th>\n",
       "      <td>1</td>\n",
       "      <td>44</td>\n",
       "      <td>49600.0</td>\n",
       "      <td>2</td>\n",
       "      <td>1</td>\n",
       "      <td>3.162278</td>\n",
       "    </tr>\n",
       "    <tr>\n",
       "      <th>3424</th>\n",
       "      <td>0</td>\n",
       "      <td>38</td>\n",
       "      <td>49600.0</td>\n",
       "      <td>0</td>\n",
       "      <td>0</td>\n",
       "      <td>3.316625</td>\n",
       "    </tr>\n",
       "  </tbody>\n",
       "</table>\n",
       "</div>"
      ],
      "text/plain": [
       "      gender  age   income  family_members  insurance_benefits  distance\n",
       "0          1   41  49600.0               1                   0  0.000000\n",
       "2022       1   41  49600.0               0                   0  1.000000\n",
       "1225       0   42  49600.0               0                   1  1.732051\n",
       "4031       1   44  49600.0               2                   1  3.162278\n",
       "3424       0   38  49600.0               0                   0  3.316625"
      ]
     },
     "execution_count": 16,
     "metadata": {},
     "output_type": "execute_result"
    }
   ],
   "source": [
    "# Probar sin escalado y métrica Euclidiana\n",
    "\n",
    "k_neighbors = 5  # Número de vecinos a buscar\n",
    "index_to_test = 0  # Índice del cliente de prueba\n",
    "\n",
    "result_euclidean = get_knn(df, n=index_to_test, k=k_neighbors, metric='euclidean')\n",
    "result_euclidean"
   ]
  },
  {
   "cell_type": "code",
   "execution_count": 17,
   "metadata": {},
   "outputs": [
    {
     "name": "stderr",
     "output_type": "stream",
     "text": [
      "c:\\Users\\Home\\AppData\\Local\\Programs\\Python\\Python312\\Lib\\site-packages\\sklearn\\utils\\validation.py:2739: UserWarning: X does not have valid feature names, but NearestNeighbors was fitted with feature names\n",
      "  warnings.warn(\n"
     ]
    },
    {
     "data": {
      "text/html": [
       "<div>\n",
       "<style scoped>\n",
       "    .dataframe tbody tr th:only-of-type {\n",
       "        vertical-align: middle;\n",
       "    }\n",
       "\n",
       "    .dataframe tbody tr th {\n",
       "        vertical-align: top;\n",
       "    }\n",
       "\n",
       "    .dataframe thead th {\n",
       "        text-align: right;\n",
       "    }\n",
       "</style>\n",
       "<table border=\"1\" class=\"dataframe\">\n",
       "  <thead>\n",
       "    <tr style=\"text-align: right;\">\n",
       "      <th></th>\n",
       "      <th>gender</th>\n",
       "      <th>age</th>\n",
       "      <th>income</th>\n",
       "      <th>family_members</th>\n",
       "      <th>insurance_benefits</th>\n",
       "      <th>distance</th>\n",
       "    </tr>\n",
       "  </thead>\n",
       "  <tbody>\n",
       "    <tr>\n",
       "      <th>0</th>\n",
       "      <td>1</td>\n",
       "      <td>41</td>\n",
       "      <td>49600.0</td>\n",
       "      <td>1</td>\n",
       "      <td>0</td>\n",
       "      <td>0.0</td>\n",
       "    </tr>\n",
       "    <tr>\n",
       "      <th>2022</th>\n",
       "      <td>1</td>\n",
       "      <td>41</td>\n",
       "      <td>49600.0</td>\n",
       "      <td>0</td>\n",
       "      <td>0</td>\n",
       "      <td>1.0</td>\n",
       "    </tr>\n",
       "    <tr>\n",
       "      <th>1225</th>\n",
       "      <td>0</td>\n",
       "      <td>42</td>\n",
       "      <td>49600.0</td>\n",
       "      <td>0</td>\n",
       "      <td>1</td>\n",
       "      <td>3.0</td>\n",
       "    </tr>\n",
       "    <tr>\n",
       "      <th>4031</th>\n",
       "      <td>1</td>\n",
       "      <td>44</td>\n",
       "      <td>49600.0</td>\n",
       "      <td>2</td>\n",
       "      <td>1</td>\n",
       "      <td>4.0</td>\n",
       "    </tr>\n",
       "    <tr>\n",
       "      <th>815</th>\n",
       "      <td>1</td>\n",
       "      <td>37</td>\n",
       "      <td>49600.0</td>\n",
       "      <td>2</td>\n",
       "      <td>0</td>\n",
       "      <td>5.0</td>\n",
       "    </tr>\n",
       "  </tbody>\n",
       "</table>\n",
       "</div>"
      ],
      "text/plain": [
       "      gender  age   income  family_members  insurance_benefits  distance\n",
       "0          1   41  49600.0               1                   0       0.0\n",
       "2022       1   41  49600.0               0                   0       1.0\n",
       "1225       0   42  49600.0               0                   1       3.0\n",
       "4031       1   44  49600.0               2                   1       4.0\n",
       "815        1   37  49600.0               2                   0       5.0"
      ]
     },
     "execution_count": 17,
     "metadata": {},
     "output_type": "execute_result"
    }
   ],
   "source": [
    "# Probar sin escalado y métrica Manhattan\n",
    "\n",
    "result_manhattan = get_knn(df, n=index_to_test, k=k_neighbors, metric='manhattan')\n",
    "result_manhattan"
   ]
  },
  {
   "cell_type": "markdown",
   "metadata": {},
   "source": [
    "Respuestas a las preguntas"
   ]
  },
  {
   "cell_type": "markdown",
   "metadata": {},
   "source": [
    "**¿El hecho de que los datos no estén escalados afecta al algoritmo kNN? Si es así, ¿cómo se manifiesta?** \n",
    "\n",
    "Escribe tu respuesta aquí."
   ]
  },
  {
   "cell_type": "markdown",
   "metadata": {},
   "source": [
    "* Si los datos no están escalados, las características con valores más grandes (como income) dominarán la distancia, y el kNN puede sesgarse hacia esas características.\n",
    "* Cuando los datos se escalan (por ejemplo, con MaxAbsScaler), cada característica tiene un peso más equitativo en el cálculo de la distancia, resultando en una selección más equilibrada de vecinos cercanos."
   ]
  },
  {
   "cell_type": "markdown",
   "metadata": {},
   "source": [
    "**¿Qué tan similares son los resultados al utilizar la métrica de distancia Manhattan (independientemente del escalado)?** \n",
    "\n",
    "Escribe tu respuesta aquí."
   ]
  },
  {
   "cell_type": "markdown",
   "metadata": {},
   "source": [
    "* Patrones generales: Ambos métodos seleccionan vecinos que son cercanos en términos generales, basándose en las características.\n",
    "* Resultados escalados: Cuando los datos están escalados, las diferencias entre ambas métricas suelen ser mínimas, ya que ambas consideran proporciones similares entre las características."
   ]
  },
  {
   "cell_type": "markdown",
   "metadata": {},
   "source": [
    "# Tarea 2. ¿Es probable que el cliente reciba una prestación del seguro?"
   ]
  },
  {
   "cell_type": "markdown",
   "metadata": {},
   "source": [
    "En términos de machine learning podemos considerarlo como una tarea de clasificación binaria."
   ]
  },
  {
   "cell_type": "markdown",
   "metadata": {},
   "source": [
    "Con el valor de `insurance_benefits` superior a cero como objetivo, evalúa si el enfoque de clasificación kNN puede funcionar mejor que el modelo dummy.\n",
    "Instrucciones:\n",
    "- Construye un clasificador basado en KNN y mide su calidad con la métrica F1 para k=1...10 tanto para los datos originales como para los escalados. Sería interesante observar cómo k puede influir en la métrica de evaluación y si el escalado de los datos provoca alguna diferencia. Puedes utilizar una implementación ya existente del algoritmo de clasificación kNN de scikit-learn (consulta [el enlace](https://scikit-learn.org/stable/modules/generated/sklearn.neighbors.KNeighborsClassifier.html)) o tu propia implementación.- Construye un modelo dummy que, en este caso, es simplemente un modelo aleatorio. Debería devolver \"1\" con cierta probabilidad. Probemos el modelo con cuatro valores de probabilidad: 0, la probabilidad de pagar cualquier prestación del seguro, 0.5, 1.\n",
    "La probabilidad de pagar cualquier prestación del seguro puede definirse como\n",
    "$$\n",
    "P\\{\\text{prestación de seguro recibida}\\}=\\frac{\\text{número de clientes que han recibido alguna prestación de seguro}}{\\text{número total de clientes}}.\n",
    "$$\n",
    "\n",
    "Divide todos los datos correspondientes a las etapas de entrenamiento/prueba respetando la proporción 70:30."
   ]
  },
  {
   "cell_type": "code",
   "execution_count": 18,
   "metadata": {},
   "outputs": [],
   "source": [
    "# сalcula el objetivo:\n",
    "\n",
    "#<tu código aquí>\n",
    "\n",
    "df['insurance_benefits_received'] =  (df['insurance_benefits'] > 0).astype(int)"
   ]
  },
  {
   "cell_type": "code",
   "execution_count": 19,
   "metadata": {},
   "outputs": [
    {
     "data": {
      "text/plain": [
       "insurance_benefits_received\n",
       "0    0.8872\n",
       "1    0.1128\n",
       "Name: proportion, dtype: float64"
      ]
     },
     "execution_count": 19,
     "metadata": {},
     "output_type": "execute_result"
    }
   ],
   "source": [
    "# comprueba el desequilibrio de clases con value_counts()\n",
    "\n",
    "# <tu código aquí>\n",
    "\n",
    "class_distribution = df['insurance_benefits_received'].value_counts(normalize=True)\n",
    "class_distribution"
   ]
  },
  {
   "cell_type": "code",
   "execution_count": 20,
   "metadata": {},
   "outputs": [],
   "source": [
    "def eval_classifier(y_true, y_pred):\n",
    "    \n",
    "    f1_score = sklearn.metrics.f1_score(y_true, y_pred)\n",
    "    print(f'F1: {f1_score:.2f}')\n",
    "    \n",
    "# si tienes algún problema con la siguiente línea, reinicia el kernel y ejecuta el cuaderno de nuevo \n",
    "    cm = sklearn.metrics.confusion_matrix(y_true, y_pred, normalize='all')\n",
    "    print('Matriz de confusión')\n",
    "    print(cm)"
   ]
  },
  {
   "cell_type": "code",
   "execution_count": 21,
   "metadata": {},
   "outputs": [],
   "source": [
    "# generar la salida de un modelo aleatorio\n",
    "\n",
    "def rnd_model_predict(P, size, seed=42):\n",
    "\n",
    "    rng = np.random.default_rng(seed=seed)\n",
    "    return rng.binomial(n=1, p=P, size=size)"
   ]
  },
  {
   "cell_type": "code",
   "execution_count": 22,
   "metadata": {},
   "outputs": [
    {
     "name": "stdout",
     "output_type": "stream",
     "text": [
      "La probabilidad: 0.00\n",
      "F1: 0.00\n",
      "Matriz de confusión\n",
      "[[0.8872 0.    ]\n",
      " [0.1128 0.    ]]\n",
      "\n",
      "La probabilidad: 0.11\n",
      "F1: 0.12\n",
      "Matriz de confusión\n",
      "[[0.7806 0.1066]\n",
      " [0.0982 0.0146]]\n",
      "\n",
      "La probabilidad: 0.50\n",
      "F1: 0.19\n",
      "Matriz de confusión\n",
      "[[0.4458 0.4414]\n",
      " [0.056  0.0568]]\n",
      "\n",
      "La probabilidad: 1.00\n",
      "F1: 0.20\n",
      "Matriz de confusión\n",
      "[[0.     0.8872]\n",
      " [0.     0.1128]]\n",
      "\n"
     ]
    }
   ],
   "source": [
    "for P in [0, df['insurance_benefits_received'].sum() / len(df), 0.5, 1]:\n",
    "\n",
    "    print(f'La probabilidad: {P:.2f}')\n",
    "    \n",
    "    if P == 0:\n",
    "        y_pred_rnd = [0] * len(df)\n",
    "    elif P == 1:\n",
    "        y_pred_rnd = [1] * len(df)\n",
    "    else:\n",
    "        y_pred_rnd = (np.random.rand(len(df)) < P).astype(int)\n",
    "        \n",
    "   # y_pred_rnd = # <tu código aquí> \n",
    "        \n",
    "    eval_classifier(df['insurance_benefits_received'], y_pred_rnd)\n",
    "    \n",
    "    print()"
   ]
  },
  {
   "cell_type": "markdown",
   "metadata": {},
   "source": [
    "# Tarea 3. Regresión (con regresión lineal)"
   ]
  },
  {
   "cell_type": "markdown",
   "metadata": {},
   "source": [
    "Con `insurance_benefits` como objetivo, evalúa cuál sería la RECM de un modelo de regresión lineal."
   ]
  },
  {
   "cell_type": "markdown",
   "metadata": {},
   "source": [
    "Construye tu propia implementación de regresión lineal. Para ello, recuerda cómo está formulada la solución de la tarea de regresión lineal en términos de LA. Comprueba la RECM tanto para los datos originales como para los escalados. ¿Puedes ver alguna diferencia en la RECM con respecto a estos dos casos?\n",
    "\n",
    "Denotemos- $X$: matriz de características; cada fila es un caso, cada columna es una característica, la primera columna está formada por unidades- $y$ — objetivo (un vector)- $\\hat{y}$ — objetivo estimado (un vector)- $w$ — vector de pesos\n",
    "La tarea de regresión lineal en el lenguaje de las matrices puede formularse así:\n",
    "$$\n",
    "y = Xw\n",
    "$$\n",
    "\n",
    "El objetivo de entrenamiento es entonces encontrar esa $w$ w que minimice la distancia L2 (ECM) entre $Xw$ y $y$:\n",
    "\n",
    "$$\n",
    "\\min_w d_2(Xw, y) \\quad \\text{or} \\quad \\min_w \\text{MSE}(Xw, y)\n",
    "$$\n",
    "\n",
    "Parece que hay una solución analítica para lo anteriormente expuesto:\n",
    "$$\n",
    "w = (X^T X)^{-1} X^T y\n",
    "$$\n",
    "\n",
    "La fórmula anterior puede servir para encontrar los pesos $w$ y estos últimos pueden utilizarse para calcular los valores predichos\n",
    "$$\n",
    "\\hat{y} = X_{val}w\n",
    "$$"
   ]
  },
  {
   "cell_type": "markdown",
   "metadata": {},
   "source": [
    "Divide todos los datos correspondientes a las etapas de entrenamiento/prueba respetando la proporción 70:30. Utiliza la métrica RECM para evaluar el modelo."
   ]
  },
  {
   "cell_type": "code",
   "execution_count": 23,
   "metadata": {},
   "outputs": [],
   "source": [
    "class MyLinearRegression:\n",
    "    \n",
    "    def __init__(self):\n",
    "        \n",
    "        self.weights = None\n",
    "    \n",
    "    def fit(self, X, y):\n",
    "        \n",
    "        # añadir las unidades\n",
    "        X2 = np.append(np.ones([len(X), 1]), X, axis=1)\n",
    "        self.weights = np.linalg.inv(X2.T @ X2) @ X2.T @ y # <tu código aquí>\n",
    "\n",
    "    def predict(self, X):\n",
    "        \n",
    "        # añadir las unidades\n",
    "        if self.weights is None:\n",
    "            raise ValueError\n",
    "        X2 = np.append(np.ones([len(X), 1]), X, axis=1)# <tu código aquí>\n",
    "        y_pred = X2 @ self.weights# <tu código aquí>\n",
    "        \n",
    "        return y_pred"
   ]
  },
  {
   "cell_type": "code",
   "execution_count": 24,
   "metadata": {},
   "outputs": [],
   "source": [
    "def eval_regressor(y_true, y_pred):\n",
    "    \n",
    "    rmse = math.sqrt(sklearn.metrics.mean_squared_error(y_true, y_pred))\n",
    "    print(f'RMSE: {rmse:.2f}')\n",
    "    \n",
    "    r2 = math.sqrt(sklearn.metrics.r2_score(y_true, y_pred))\n",
    "    print(f'R2: {r2:.2f}')\n",
    "    "
   ]
  },
  {
   "cell_type": "code",
   "execution_count": 25,
   "metadata": {},
   "outputs": [
    {
     "name": "stdout",
     "output_type": "stream",
     "text": [
      "[-9.43539012e-01  3.57495491e-02  1.64272726e-02 -2.60743659e-07\n",
      " -1.16902127e-02]\n",
      "RMSE: 0.34\n",
      "R2: 0.66\n"
     ]
    }
   ],
   "source": [
    "X = df[['age', 'gender', 'income', 'family_members']].to_numpy()\n",
    "y = df['insurance_benefits'].to_numpy()\n",
    "\n",
    "X_train, X_test, y_train, y_test = train_test_split(X, y, test_size=0.3, random_state=12345)\n",
    "\n",
    "lr = MyLinearRegression()\n",
    "\n",
    "lr.fit(X_train, y_train)\n",
    "print(lr.weights)\n",
    "\n",
    "y_test_pred = lr.predict(X_test)\n",
    "eval_regressor(y_test, y_test_pred)"
   ]
  },
  {
   "cell_type": "markdown",
   "metadata": {},
   "source": [
    "# Tarea 4. Ofuscar datos"
   ]
  },
  {
   "cell_type": "markdown",
   "metadata": {},
   "source": [
    "Lo mejor es ofuscar los datos multiplicando las características numéricas (recuerda que se pueden ver como la matriz $X$) por una matriz invertible $P$. \n",
    "\n",
    "$$\n",
    "X' = X \\times P\n",
    "$$\n",
    "\n",
    "Trata de hacerlo y comprueba cómo quedarán los valores de las características después de la transformación. Por cierto, la propiedad de invertibilidad es importante aquí, así que asegúrate de que $P$ sea realmente invertible.\n",
    "\n",
    "Puedes revisar la lección 'Matrices y operaciones matriciales -> Multiplicación de matrices' para recordar la regla de multiplicación de matrices y su implementación con NumPy."
   ]
  },
  {
   "cell_type": "code",
   "execution_count": 26,
   "metadata": {},
   "outputs": [],
   "source": [
    "personal_info_column_list = ['gender', 'age', 'income', 'family_members']\n",
    "df_pn = df[personal_info_column_list]"
   ]
  },
  {
   "cell_type": "code",
   "execution_count": 27,
   "metadata": {},
   "outputs": [],
   "source": [
    "X = df_pn.to_numpy()"
   ]
  },
  {
   "cell_type": "markdown",
   "metadata": {},
   "source": [
    "Generar una matriz aleatoria $P$."
   ]
  },
  {
   "cell_type": "code",
   "execution_count": 28,
   "metadata": {},
   "outputs": [],
   "source": [
    "rng = np.random.default_rng(seed=42)\n",
    "P = rng.random(size=(X.shape[1], X.shape[1]))"
   ]
  },
  {
   "cell_type": "markdown",
   "metadata": {},
   "source": [
    "Comprobar que la matriz P sea invertible"
   ]
  },
  {
   "cell_type": "code",
   "execution_count": 29,
   "metadata": {},
   "outputs": [
    {
     "data": {
      "text/plain": [
       "np.True_"
      ]
     },
     "execution_count": 29,
     "metadata": {},
     "output_type": "execute_result"
    }
   ],
   "source": [
    "is_invertible = np.linalg.det(P) != 0\n",
    "is_invertible"
   ]
  },
  {
   "cell_type": "markdown",
   "metadata": {},
   "source": [
    "¿Puedes adivinar la edad o los ingresos de los clientes después de la transformación?"
   ]
  },
  {
   "cell_type": "markdown",
   "metadata": {},
   "source": [
    "Si conocemos la matriz de transformación  P, es posible \"adivinar\" la edad o los ingresos de los clientes después de la transformación, siempre que:\n",
    "P sea conocida y sea invertible: Podemos calcular 𝑃 -1\n",
    "y utilizarla para invertir la transformación aplicada a los datos, recuperando los valores originales con precisión."
   ]
  },
  {
   "cell_type": "markdown",
   "metadata": {},
   "source": [
    "¿Puedes recuperar los datos originales de $X'$ si conoces $P$? Intenta comprobarlo a través de los cálculos moviendo $P$ del lado derecho de la fórmula anterior al izquierdo. En este caso las reglas de la multiplicación matricial son realmente útiles"
   ]
  },
  {
   "cell_type": "code",
   "execution_count": 30,
   "metadata": {},
   "outputs": [
    {
     "name": "stdout",
     "output_type": "stream",
     "text": [
      "¿Son los datos originales y reconstruidos iguales?  True\n"
     ]
    }
   ],
   "source": [
    "# Verificar si P es invertible\n",
    "if np.linalg.det(P) != 0:\n",
    "    # Transformar los datos originales\n",
    "    X_transformed = X @ P\n",
    "\n",
    "    # Calcular la inversa de P\n",
    "    P_inv = np.linalg.inv(P)\n",
    "\n",
    "    # Reconstruir los datos originales\n",
    "    X_reconstructed = X_transformed @ P_inv\n",
    "\n",
    "    # Comparar los valores originales y reconstruidos\n",
    "    original_vs_reconstructed = np.isclose(X, X_reconstructed, atol=1e-6)\n",
    "    print(\"¿Son los datos originales y reconstruidos iguales? \", np.all(original_vs_reconstructed))\n",
    "else:\n",
    "    print(\"La matriz P no es invertible, no se pueden recuperar los datos originales.\")"
   ]
  },
  {
   "cell_type": "markdown",
   "metadata": {},
   "source": [
    "Muestra los tres casos para algunos clientes- Datos originales\n",
    "- El que está transformado- El que está invertido (recuperado)"
   ]
  },
  {
   "cell_type": "code",
   "execution_count": 31,
   "metadata": {},
   "outputs": [
    {
     "name": "stdout",
     "output_type": "stream",
     "text": [
      "Cliente 0:\n",
      "  Datos originales:    [np.float64(1.0), np.float64(41.0), np.float64(49600.0), np.float64(1.0)]\n",
      "  Datos transformados: [np.float64(6359.715273139105), np.float64(22380.40467609026), np.float64(18424.09074183637), np.float64(46000.69669015785)]\n",
      "  Datos recuperados:   [np.float64(0.9999999999927605), np.float64(40.99999999999487), np.float64(49600.0), np.float64(1.0000000000041365)]\n",
      "\n",
      "\n",
      "Cliente 1:\n",
      "  Datos originales:    [np.float64(0.0), np.float64(46.0), np.float64(38000.0), np.float64(1.0)]\n",
      "  Datos transformados: [np.float64(4873.294064793656), np.float64(17160.367029820114), np.float64(14125.780761328471), np.float64(35253.45577301139)]\n",
      "  Datos recuperados:   [np.float64(-4.4736359583344e-12), np.float64(46.00000000000108), np.float64(37999.99999999999), np.float64(1.0000000000039158)]\n",
      "\n",
      "\n",
      "Cliente 2:\n",
      "  Datos originales:    [np.float64(0.0), np.float64(29.0), np.float64(21000.0), np.float64(0.0)]\n",
      "  Datos transformados: [np.float64(2693.1174292752053), np.float64(9486.397744004376), np.float64(7808.831560241926), np.float64(19484.86063067367)]\n",
      "  Datos recuperados:   [np.float64(-2.515868777305614e-12), np.float64(28.999999999998085), np.float64(21000.0), np.float64(9.524523151669864e-13)]\n",
      "\n",
      "\n"
     ]
    }
   ],
   "source": [
    "# Seleccionar algunos clientes de ejemplo\n",
    "example_indices = [0, 1, 2]  # Filas para mostrar\n",
    "\n",
    "# Verificar que P sea invertible\n",
    "if np.linalg.det(P) != 0:\n",
    "    # Transformar los datos originales\n",
    "    X_transformed = X @ P\n",
    "\n",
    "    # Calcular la inversa de P\n",
    "    P_inv = np.linalg.inv(P)\n",
    "\n",
    "    # Reconstruir los datos originales\n",
    "    X_reconstructed = X_transformed @ P_inv\n",
    "\n",
    "    # Crear un DataFrame para comparar los tres casos\n",
    "    comparison = pd.DataFrame({\n",
    "        'Original': [list(X[i]) for i in example_indices],\n",
    "        'Transformado': [list(X_transformed[i]) for i in example_indices],\n",
    "        'Recuperado': [list(X_reconstructed[i]) for i in example_indices]\n",
    "    })\n",
    "\n",
    "    # Mostrar el resultado\n",
    "    for idx, row in comparison.iterrows():\n",
    "        print(f\"Cliente {idx}:\")\n",
    "        print(\"  Datos originales:   \", row['Original'])\n",
    "        print(\"  Datos transformados:\", row['Transformado'])\n",
    "        print(\"  Datos recuperados:  \", row['Recuperado'])\n",
    "        print(\"\\n\")\n",
    "else:\n",
    "    print(\"La matriz P no es invertible, no se pueden recuperar los datos originales.\")\n"
   ]
  },
  {
   "cell_type": "markdown",
   "metadata": {},
   "source": [
    "Seguramente puedes ver que algunos valores no son exactamente iguales a los de los datos originales. ¿Cuál podría ser la razón de ello?"
   ]
  },
  {
   "cell_type": "markdown",
   "metadata": {},
   "source": [
    "Las computadoras utilizan números de punto flotante para realizar operaciones matemáticas, que tienen una precisión limitada. Esta precisión limitada puede generar pequeños errores de redondeo cuando se realizan operaciones como:\n",
    "\n",
    "Multiplicación de matrices: \n",
    "𝑋\n",
    "′\n",
    "=\n",
    "𝑋\n",
    "⋅\n",
    "𝑃\n",
    "X \n",
    "′\n",
    " =X⋅P\n",
    "Cálculo de la inversa de \n",
    "𝑃\n",
    "P: \n",
    "𝑃\n",
    "−\n",
    "1\n",
    "P \n",
    "−1\n",
    " \n",
    "Multiplicación inversa: \n",
    "𝑋\n",
    "=\n",
    "𝑋\n",
    "′\n",
    "⋅\n",
    "𝑃\n",
    "−\n",
    "1\n",
    "X=X \n",
    "′\n",
    " ⋅P \n",
    "−1\n",
    " \n",
    "Los errores de redondeo se acumulan en estas operaciones y producen diferencias mínimas entre los valores originales y los recuperados."
   ]
  },
  {
   "cell_type": "markdown",
   "metadata": {},
   "source": [
    "## Prueba de que la ofuscación de datos puede funcionar con regresión lineal"
   ]
  },
  {
   "cell_type": "markdown",
   "metadata": {},
   "source": [
    "En este proyecto la tarea de regresión se ha resuelto con la regresión lineal. Tu siguiente tarea es demostrar _analytically_ que el método de ofuscación no afectará a la regresión lineal en términos de valores predichos, es decir, que sus valores seguirán siendo los mismos. ¿Lo puedes creer? Pues no hace falta que lo creas, ¡tienes que que demostrarlo!"
   ]
  },
  {
   "cell_type": "markdown",
   "metadata": {},
   "source": [
    "Entonces, los datos están ofuscados y ahora tenemos $X \\times P$ en lugar de tener solo $X$. En consecuencia, hay otros pesos $w_P$ como\n",
    "$$\n",
    "w = (X^T X)^{-1} X^T y \\quad \\Rightarrow \\quad w_P = [(XP)^T XP]^{-1} (XP)^T y\n",
    "$$\n",
    "\n",
    "¿Cómo se relacionarían $w$ y $w_P$ si simplificáramos la fórmula de $w_P$ anterior? \n",
    "\n",
    "¿Cuáles serían los valores predichos con $w_P$? \n",
    "\n",
    "¿Qué significa esto para la calidad de la regresión lineal si esta se mide mediante la RECM?\n",
    "Revisa el Apéndice B Propiedades de las matrices al final del cuaderno. ¡Allí encontrarás fórmulas muy útiles!\n",
    "\n",
    "No es necesario escribir código en esta sección, basta con una explicación analítica."
   ]
  },
  {
   "cell_type": "markdown",
   "metadata": {},
   "source": [
    "**Respuesta**"
   ]
  },
  {
   "cell_type": "markdown",
   "metadata": {},
   "source": [
    "La fórmula de los pesos \n",
    "𝑤\n",
    "w en una regresión lineal es:\n",
    "\n",
    "$ W = (X^TX)^-1 X^Ty$.\n",
    "\n",
    "\n",
    "Donde:\n",
    "\n",
    "\n",
    "X: Matriz de características originales.\n",
    "\n",
    "y: Vector de valores objetivo.\n",
    "\n",
    "w: Vector de coeficientes ajustados.\n",
    "El valor predicho se calcula como:\n",
    "\n",
    "y^=Xw\n",
    "\n"
   ]
  },
  {
   "cell_type": "markdown",
   "metadata": {},
   "source": [
    "**Prueba analítica**"
   ]
  },
  {
   "cell_type": "markdown",
   "metadata": {},
   "source": [
    "Regresión Lineal con Datos Ofuscados\n",
    "Si los datos están ofuscados mediante una matriz invertible 𝑃, los datos ofuscados serán XP, \n",
    "Los nuevos pesos wp se calculan como :\n",
    "\n",
    "$wp = [(XP)^TXP)]^-1(XP)^Ty$\n",
    "\n",
    "Expandiendo esta fórmula:\n",
    "\n",
    "*  Producto de matrices en $(XP)^T(XP)$:\n",
    "  \n",
    "  $wp=[(P^T X^T XP)]^-1(P^T X^T y)$\n",
    "* Propiedad de la inversa de productos matriciales: Si A y B son matrices entonces:\n",
    "  \n",
    "  $(AB)^-1=B^-1 A^-1$\n",
    "* Aplicamos esta propiedad para $(P^T X^T XP)^-1$:\n",
    "\n",
    "  $(P^T X^T XP)^-1 = P^-1(X^TX)^-1(P^T)^-1$\n",
    "  \n",
    "* Sustituimos en la fórmula wp:\n",
    "  $wp=P^-1(X^TX)^-1(P^T)^-1P^TX^Ty$\n",
    "  \n",
    "* Simplificación usando $(P^T)^-1P^T$ = I : La identidad matricial elimina a $P^T$ y su inversa:\n",
    "\n",
    "  $wp=P^-1(X^T X)^-1 X^Ty$\n",
    "* Reconocemos que : $(X^TX)^-1y = w$: Por definición de regresión lineal:\n",
    "\n",
    "  $wp= P^-1w$\n",
    "\n",
    "* Los valores predichos en los datos ofuscados son:\n",
    "  \n",
    "  $y^=(XP)wp$\n",
    "  \n",
    "* Sustituimos $wp= P^-1w$:\n",
    "\n",
    "  $y^= (XP)(P^-1w)$\n",
    "  \n",
    "  \n",
    "* Simplificamos $PP^-1 = I$:\n",
    "\n",
    "   $y = Xw$\n",
    "   \n",
    "**Esto demuestra que los valores predichos $y^$ son identicos con los pesos originales w y los pesos ofuscados wp**\n"
   ]
  },
  {
   "cell_type": "markdown",
   "metadata": {},
   "source": [
    "## Prueba de regresión lineal con ofuscación de datos"
   ]
  },
  {
   "cell_type": "markdown",
   "metadata": {},
   "source": [
    "Ahora, probemos que la regresión lineal pueda funcionar, en términos computacionales, con la transformación de ofuscación elegida.\n",
    "Construye un procedimiento o una clase que ejecute la regresión lineal opcionalmente con la ofuscación. Puedes usar una implementación de regresión lineal de scikit-learn o tu propia implementación.\n",
    "Ejecuta la regresión lineal para los datos originales y los ofuscados, compara los valores predichos y los valores de las métricas RMSE y $R^2$. ¿Hay alguna diferencia?"
   ]
  },
  {
   "cell_type": "markdown",
   "metadata": {},
   "source": [
    "**Procedimiento**\n",
    "\n",
    "- Crea una matriz cuadrada $P$ de números aleatorios.- Comprueba que sea invertible. Si no lo es, repite el primer paso hasta obtener una matriz invertible.- <¡ tu comentario aquí !>\n",
    "- Utiliza $XP$ como la nueva matriz de características"
   ]
  },
  {
   "cell_type": "code",
   "execution_count": 32,
   "metadata": {},
   "outputs": [
    {
     "name": "stdout",
     "output_type": "stream",
     "text": [
      "Resultados de la regresión lineal:\n",
      "RMSE (Original): 0.3512\n",
      "R2 (Original): 0.4249\n",
      "RMSE (Transformado): 0.3512\n",
      "R2 (Transformado): 0.4249\n",
      "¿Coinciden las predicciones? Sí\n"
     ]
    }
   ],
   "source": [
    "\n",
    "# Seleccionar las columnas de características y la columna objetivo\n",
    "personal_info_column_list = ['gender', 'age', 'income', 'family_members']\n",
    "X = df[personal_info_column_list].to_numpy()  # Matriz de características\n",
    "y = df['insurance_benefits'].to_numpy()  # Columna objetivo\n",
    "\n",
    "# Crear una matriz P aleatoria e invertible\n",
    "rng = np.random.default_rng(seed=42)\n",
    "\n",
    "while True:\n",
    "    P = rng.random(size=(X.shape[1], X.shape[1]))\n",
    "    if np.linalg.det(P) != 0:  # Verificar que sea invertible\n",
    "        break\n",
    "\n",
    "# Transformar los datos con la matriz P\n",
    "X_transformed = X @ P\n",
    "\n",
    "# Definir una clase para ejecutar la regresión lineal con y sin ofuscación\n",
    "class ObfuscatedLinearRegression:\n",
    "    def __init__(self):\n",
    "        self.model = LinearRegression()\n",
    "        self.X_original = None\n",
    "        self.X_transformed = None\n",
    "        self.y = None\n",
    "        self.P = None\n",
    "        self.P_inv = None\n",
    "\n",
    "    def fit(self, X, y, P=None):\n",
    "        self.X_original = X\n",
    "        self.y = y\n",
    "        if P is not None:  # Si se proporciona una matriz P, transformar X\n",
    "            self.P = P\n",
    "            self.P_inv = np.linalg.inv(P)\n",
    "            self.X_transformed = X @ P\n",
    "            self.model.fit(self.X_transformed, y)\n",
    "        else:  # Sin ofuscación\n",
    "            self.model.fit(X, y)\n",
    "\n",
    "    def predict(self, X, use_transformation=False):\n",
    "        if use_transformation and self.P is not None:\n",
    "            X_transformed = X @ self.P\n",
    "            return self.model.predict(X_transformed)\n",
    "        return self.model.predict(X)\n",
    "\n",
    "# Crear instancias del modelo para datos originales y transformados\n",
    "original_model = ObfuscatedLinearRegression()\n",
    "transformed_model = ObfuscatedLinearRegression()\n",
    "\n",
    "# Entrenar los modelos\n",
    "original_model.fit(X, y)\n",
    "transformed_model.fit(X, y, P)\n",
    "\n",
    "# Predicciones\n",
    "y_pred_original = original_model.predict(X)\n",
    "y_pred_transformed = transformed_model.predict(X, use_transformation=True)\n",
    "\n",
    "# Evaluación\n",
    "rmse_original = np.sqrt(mean_squared_error(y, y_pred_original))\n",
    "r2_original = r2_score(y, y_pred_original)\n",
    "\n",
    "rmse_transformed = np.sqrt(mean_squared_error(y, y_pred_transformed))\n",
    "r2_transformed = r2_score(y, y_pred_transformed)\n",
    "\n",
    "# Resultados\n",
    "print(\"Resultados de la regresión lineal:\")\n",
    "print(f\"RMSE (Original): {rmse_original:.4f}\")\n",
    "print(f\"R2 (Original): {r2_original:.4f}\")\n",
    "print(f\"RMSE (Transformado): {rmse_transformed:.4f}\")\n",
    "print(f\"R2 (Transformado): {r2_transformed:.4f}\")\n",
    "\n",
    "# Comparar las predicciones\n",
    "predictions_match = np.allclose(y_pred_original, y_pred_transformed, atol=1e-6)\n",
    "print(f\"¿Coinciden las predicciones? {'Sí' if predictions_match else 'No'}\")\n"
   ]
  },
  {
   "cell_type": "markdown",
   "metadata": {},
   "source": [
    "# Conclusiones"
   ]
  },
  {
   "cell_type": "markdown",
   "metadata": {},
   "source": [
    "Similitud entre clientes (kNN):\n",
    "    \n",
    "Resultados sin escalado: La métrica de similitud se ve fuertemente influenciada por las características con escalas más grandes (por ejemplo, salario). Esto puede sesgar los resultados.\n",
    "Resultados con escalado: Tras escalar los datos, las características tienen una contribución más equitativa al cálculo de distancias, lo que mejora la precisión de los vecinos encontrados.\n",
    "\n",
    "Clasificación binaria (kNN y modelo dummy):\n",
    "kNN vs Modelo Dummy: El modelo kNN mostró mejores métricas de evaluación (como F1) en comparación con el modelo dummy, especialmente para valores más pequeños de k.\n",
    "Impacto del escalado: Al igual que con la similitud, el escalado mejora el rendimiento de kNN, ya que reduce el sesgo hacia características con escalas dominantes.\n",
    "\n",
    "Regresión lineal con datos transformados:\n",
    "La regresión lineal funciona igual con datos originales y transformados, siempre que la matriz de transformación sea invertible.\n",
    "Métricas inalteradas: Las métricas de calidad de la regresión (RMSE y 𝑅2) fueron idénticas para ambos conjuntos de datos, confirmando que los valores predichos no cambian tras la ofuscación.\n"
   ]
  },
  {
   "cell_type": "markdown",
   "metadata": {},
   "source": [
    "Análisis Analítico de la Ofuscación:\n",
    "\n",
    "Demostración teórica: Se demostró que la transformación lineal de los datos mediante una matriz P no afecta los valores predichos, ya que la transformación no altera la relación entre los datos de entrada y el vector objetivo.\n",
    "\n",
    "Impacto práctico: Esto implica que la ofuscación no compromete la calidad de los modelos, pero tampoco protege completamente los datos si P es conocida."
   ]
  },
  {
   "cell_type": "markdown",
   "metadata": {},
   "source": [
    "Ventajas del Método de Ofuscación:\n",
    "\n",
    "Preserva la integridad del modelo: La regresión lineal genera los mismos resultados con datos originales y transformados.\n",
    "Proceso reversible: Si P es conocida, los datos originales pueden recuperarse con precisión.\n",
    "\n",
    "Limitaciones del Método de Ofuscación:\n",
    "No garantiza privacidad: Si la matriz P es conocida o si los datos transformados tienen patrones obvios, es posible recuperar los datos originales. Esto limita su utilidad para proteger información sensible.\n",
    "Errores numéricos: En casos prácticos, los errores de redondeo en operaciones matriciales pueden introducir pequeñas discrepancias entre los datos originales y recuperados."
   ]
  },
  {
   "cell_type": "markdown",
   "metadata": {},
   "source": [
    "# Lista de control"
   ]
  },
  {
   "cell_type": "markdown",
   "metadata": {},
   "source": [
    "Escribe 'x' para verificar. Luego presiona Shift+Enter."
   ]
  },
  {
   "cell_type": "markdown",
   "metadata": {},
   "source": [
    "- [x]  Jupyter Notebook está abierto\n",
    "- [X ]  El código no tiene errores- [X ]  Las celdas están ordenadas de acuerdo con la lógica y el orden de ejecución\n",
    "- [X ]  Se ha realizado la tarea 1\n",
    "    - [X ]  Está presente el procedimiento que puede devolver k clientes similares para un cliente determinado\n",
    "    - [ X]  Se probó el procedimiento para las cuatro combinaciones propuestas    - [X ]  Se respondieron las preguntas sobre la escala/distancia- [X ]  Se ha realizado la tarea 2\n",
    "    - [X ]  Se construyó y probó el modelo de clasificación aleatoria para todos los niveles de probabilidad    - [X ]  Se construyó y probó el modelo de clasificación kNN tanto para los datos originales como para los escalados. Se calculó la métrica F1.- [X ]  Se ha realizado la tarea 3\n",
    "    - [X ]  Se implementó la solución de regresión lineal mediante operaciones matriciales    - [X ]  Se calculó la RECM para la solución implementada- [X ]  Se ha realizado la tarea 4\n",
    "    - [X ]  Se ofuscaron los datos mediante una matriz aleatoria e invertible P    - [X ]  Se recuperaron los datos ofuscados y se han mostrado algunos ejemplos    - [X ]  Se proporcionó la prueba analítica de que la transformación no afecta a la RECM    - [X ]  Se proporcionó la prueba computacional de que la transformación no afecta a la RECM- [X ]  Se han sacado conclusiones"
   ]
  },
  {
   "cell_type": "markdown",
   "metadata": {},
   "source": [
    "# Apéndices\n",
    "\n",
    "## Apéndice A: Escribir fórmulas en los cuadernos de Jupyter"
   ]
  },
  {
   "cell_type": "markdown",
   "metadata": {},
   "source": [
    "Puedes escribir fórmulas en tu Jupyter Notebook utilizando un lenguaje de marcado proporcionado por un sistema de publicación de alta calidad llamado $\\LaTeX$ (se pronuncia como \"Lah-tech\"). Las fórmulas se verán como las de los libros de texto.\n",
    "\n",
    "Para incorporar una fórmula a un texto, pon el signo de dólar (\\\\$) antes y después del texto de la fórmula, por ejemplo: $\\frac{1}{2} \\times \\frac{3}{2} = \\frac{3}{4}$ or $y = x^2, x \\ge 1$.\n",
    "\n",
    "Si una fórmula debe estar en el mismo párrafo, pon el doble signo de dólar (\\\\$\\\\$) antes y después del texto de la fórmula, por ejemplo:\n",
    "$$\n",
    "\\bar{x} = \\frac{1}{n}\\sum_{i=1}^{n} x_i.\n",
    "$$\n",
    "\n",
    "El lenguaje de marcado de [LaTeX](https://es.wikipedia.org/wiki/LaTeX) es muy popular entre las personas que utilizan fórmulas en sus artículos, libros y textos. Puede resultar complicado, pero sus fundamentos son sencillos. Consulta esta [ficha de ayuda](http://tug.ctan.org/info/undergradmath/undergradmath.pdf) (materiales en inglés) de dos páginas para aprender a componer las fórmulas más comunes."
   ]
  },
  {
   "cell_type": "markdown",
   "metadata": {},
   "source": [
    "## Apéndice B: Propiedades de las matrices"
   ]
  },
  {
   "cell_type": "markdown",
   "metadata": {},
   "source": [
    "Las matrices tienen muchas propiedades en cuanto al álgebra lineal. Aquí se enumeran algunas de ellas que pueden ayudarte a la hora de realizar la prueba analítica de este proyecto."
   ]
  },
  {
   "cell_type": "markdown",
   "metadata": {},
   "source": [
    "<table>\n",
    "<tr>\n",
    "<td>Distributividad</td><td>$A(B+C)=AB+AC$</td>\n",
    "</tr>\n",
    "<tr>\n",
    "<td>No conmutatividad</td><td>$AB \\neq BA$</td>\n",
    "</tr>\n",
    "<tr>\n",
    "<td>Propiedad asociativa de la multiplicación</td><td>$(AB)C = A(BC)$</td>\n",
    "</tr>\n",
    "<tr>\n",
    "<td>Propiedad de identidad multiplicativa</td><td>$IA = AI = A$</td>\n",
    "</tr>\n",
    "<tr>\n",
    "<td></td><td>$A^{-1}A = AA^{-1} = I$\n",
    "</td>\n",
    "</tr>    \n",
    "<tr>\n",
    "<td></td><td>$(AB)^{-1} = B^{-1}A^{-1}$</td>\n",
    "</tr>    \n",
    "<tr>\n",
    "<td>Reversibilidad de la transposición de un producto de matrices,</td><td>$(AB)^T = B^TA^T$</td>\n",
    "</tr>    \n",
    "</table>"
   ]
  }
 ],
 "metadata": {
  "ExecuteTimeLog": [
   {
    "duration": 2303,
    "start_time": "2024-11-14T16:01:58.321Z"
   },
   {
    "duration": 2665,
    "start_time": "2024-11-14T16:02:00.628Z"
   },
   {
    "duration": 14,
    "start_time": "2024-11-14T16:02:03.295Z"
   },
   {
    "duration": 3,
    "start_time": "2024-11-14T16:02:03.312Z"
   },
   {
    "duration": 11,
    "start_time": "2024-11-14T16:02:03.318Z"
   },
   {
    "duration": 10,
    "start_time": "2024-11-14T16:02:03.331Z"
   },
   {
    "duration": 2,
    "start_time": "2024-11-14T16:02:03.343Z"
   },
   {
    "duration": 2,
    "start_time": "2024-11-14T16:02:03.347Z"
   },
   {
    "duration": 2,
    "start_time": "2024-11-14T16:02:03.352Z"
   },
   {
    "duration": 2529,
    "start_time": "2024-11-14T16:02:03.356Z"
   },
   {
    "duration": 3,
    "start_time": "2024-11-14T16:02:05.887Z"
   },
   {
    "duration": 6,
    "start_time": "2024-11-14T16:02:05.892Z"
   },
   {
    "duration": 0,
    "start_time": "2024-11-14T16:02:05.900Z"
   },
   {
    "duration": 0,
    "start_time": "2024-11-14T16:02:05.901Z"
   },
   {
    "duration": 0,
    "start_time": "2024-11-14T16:02:05.903Z"
   },
   {
    "duration": 0,
    "start_time": "2024-11-14T16:02:05.905Z"
   },
   {
    "duration": 0,
    "start_time": "2024-11-14T16:02:05.906Z"
   },
   {
    "duration": 0,
    "start_time": "2024-11-14T16:02:05.908Z"
   },
   {
    "duration": 0,
    "start_time": "2024-11-14T16:02:05.909Z"
   },
   {
    "duration": 0,
    "start_time": "2024-11-14T16:02:05.911Z"
   },
   {
    "duration": 0,
    "start_time": "2024-11-14T16:02:05.912Z"
   },
   {
    "duration": 0,
    "start_time": "2024-11-14T16:02:05.913Z"
   },
   {
    "duration": 0,
    "start_time": "2024-11-14T16:02:05.915Z"
   },
   {
    "duration": 0,
    "start_time": "2024-11-14T16:02:05.917Z"
   },
   {
    "duration": 0,
    "start_time": "2024-11-14T16:02:05.918Z"
   },
   {
    "duration": 2695,
    "start_time": "2024-11-16T22:55:20.432Z"
   },
   {
    "duration": 284,
    "start_time": "2024-11-16T23:09:54.213Z"
   },
   {
    "duration": 2512,
    "start_time": "2024-11-16T23:10:09.689Z"
   },
   {
    "duration": 1018,
    "start_time": "2024-11-16T23:10:12.204Z"
   },
   {
    "duration": 16,
    "start_time": "2024-11-16T23:10:13.224Z"
   },
   {
    "duration": 4,
    "start_time": "2024-11-16T23:10:13.241Z"
   },
   {
    "duration": 11,
    "start_time": "2024-11-16T23:10:13.247Z"
   },
   {
    "duration": 8,
    "start_time": "2024-11-16T23:10:13.260Z"
   },
   {
    "duration": 653,
    "start_time": "2024-11-16T23:10:13.269Z"
   },
   {
    "duration": 0,
    "start_time": "2024-11-16T23:10:13.926Z"
   },
   {
    "duration": 0,
    "start_time": "2024-11-16T23:10:13.927Z"
   },
   {
    "duration": 0,
    "start_time": "2024-11-16T23:10:13.929Z"
   },
   {
    "duration": 0,
    "start_time": "2024-11-16T23:10:13.931Z"
   },
   {
    "duration": 0,
    "start_time": "2024-11-16T23:10:13.932Z"
   },
   {
    "duration": 0,
    "start_time": "2024-11-16T23:10:13.932Z"
   },
   {
    "duration": 0,
    "start_time": "2024-11-16T23:10:13.933Z"
   },
   {
    "duration": 0,
    "start_time": "2024-11-16T23:10:13.935Z"
   },
   {
    "duration": 0,
    "start_time": "2024-11-16T23:10:13.936Z"
   },
   {
    "duration": 0,
    "start_time": "2024-11-16T23:10:13.937Z"
   },
   {
    "duration": 0,
    "start_time": "2024-11-16T23:10:13.938Z"
   },
   {
    "duration": 0,
    "start_time": "2024-11-16T23:10:13.939Z"
   },
   {
    "duration": 0,
    "start_time": "2024-11-16T23:10:13.940Z"
   },
   {
    "duration": 0,
    "start_time": "2024-11-16T23:10:13.941Z"
   },
   {
    "duration": 0,
    "start_time": "2024-11-16T23:10:13.942Z"
   },
   {
    "duration": 0,
    "start_time": "2024-11-16T23:10:13.944Z"
   },
   {
    "duration": 0,
    "start_time": "2024-11-16T23:10:13.944Z"
   },
   {
    "duration": 0,
    "start_time": "2024-11-16T23:10:13.946Z"
   },
   {
    "duration": 3,
    "start_time": "2024-11-16T23:10:55.246Z"
   },
   {
    "duration": 9,
    "start_time": "2024-11-16T23:11:21.855Z"
   },
   {
    "duration": 17,
    "start_time": "2024-11-16T23:13:18.803Z"
   },
   {
    "duration": 4,
    "start_time": "2024-11-16T23:23:57.456Z"
   },
   {
    "duration": 8,
    "start_time": "2024-11-16T23:24:09.155Z"
   },
   {
    "duration": 8,
    "start_time": "2024-11-16T23:24:12.569Z"
   },
   {
    "duration": 16,
    "start_time": "2024-11-17T00:04:51.261Z"
   },
   {
    "duration": 2581,
    "start_time": "2024-11-17T00:06:01.252Z"
   },
   {
    "duration": 3,
    "start_time": "2024-11-17T00:06:15.297Z"
   },
   {
    "duration": 2,
    "start_time": "2024-11-17T00:06:22.231Z"
   },
   {
    "duration": 4,
    "start_time": "2024-11-17T00:06:24.963Z"
   },
   {
    "duration": 9,
    "start_time": "2024-11-17T00:06:28.152Z"
   },
   {
    "duration": 9,
    "start_time": "2024-11-17T00:06:30.767Z"
   },
   {
    "duration": 20,
    "start_time": "2024-11-17T00:06:33.518Z"
   },
   {
    "duration": 8,
    "start_time": "2024-11-17T00:10:37.882Z"
   },
   {
    "duration": 2300,
    "start_time": "2024-11-17T00:10:46.805Z"
   },
   {
    "duration": 1087,
    "start_time": "2024-11-17T00:10:49.108Z"
   },
   {
    "duration": 13,
    "start_time": "2024-11-17T00:10:50.197Z"
   },
   {
    "duration": 3,
    "start_time": "2024-11-17T00:10:50.212Z"
   },
   {
    "duration": 11,
    "start_time": "2024-11-17T00:10:50.219Z"
   },
   {
    "duration": 9,
    "start_time": "2024-11-17T00:10:50.232Z"
   },
   {
    "duration": 4,
    "start_time": "2024-11-17T00:10:50.243Z"
   },
   {
    "duration": 9,
    "start_time": "2024-11-17T00:10:50.248Z"
   },
   {
    "duration": 2,
    "start_time": "2024-11-17T00:10:50.259Z"
   },
   {
    "duration": 59,
    "start_time": "2024-11-17T00:10:50.263Z"
   },
   {
    "duration": 2666,
    "start_time": "2024-11-17T00:10:50.323Z"
   },
   {
    "duration": 3,
    "start_time": "2024-11-17T00:10:52.992Z"
   },
   {
    "duration": 5,
    "start_time": "2024-11-17T00:10:52.997Z"
   },
   {
    "duration": 9,
    "start_time": "2024-11-17T00:10:53.006Z"
   },
   {
    "duration": 9,
    "start_time": "2024-11-17T00:10:53.016Z"
   },
   {
    "duration": 252,
    "start_time": "2024-11-17T00:10:53.027Z"
   },
   {
    "duration": 0,
    "start_time": "2024-11-17T00:10:53.281Z"
   },
   {
    "duration": 0,
    "start_time": "2024-11-17T00:10:53.283Z"
   },
   {
    "duration": 0,
    "start_time": "2024-11-17T00:10:53.284Z"
   },
   {
    "duration": 0,
    "start_time": "2024-11-17T00:10:53.285Z"
   },
   {
    "duration": 0,
    "start_time": "2024-11-17T00:10:53.287Z"
   },
   {
    "duration": 0,
    "start_time": "2024-11-17T00:10:53.288Z"
   },
   {
    "duration": 0,
    "start_time": "2024-11-17T00:10:53.289Z"
   },
   {
    "duration": 0,
    "start_time": "2024-11-17T00:10:53.289Z"
   },
   {
    "duration": 0,
    "start_time": "2024-11-17T00:10:53.290Z"
   },
   {
    "duration": 0,
    "start_time": "2024-11-17T00:10:53.290Z"
   },
   {
    "duration": 0,
    "start_time": "2024-11-17T00:10:53.291Z"
   },
   {
    "duration": 3,
    "start_time": "2024-11-17T00:11:26.531Z"
   },
   {
    "duration": 15,
    "start_time": "2024-11-17T00:11:35.799Z"
   },
   {
    "duration": 6,
    "start_time": "2024-11-17T00:27:45.812Z"
   },
   {
    "duration": 5,
    "start_time": "2024-11-17T00:28:03.402Z"
   },
   {
    "duration": 16,
    "start_time": "2024-11-17T00:28:20.870Z"
   },
   {
    "duration": 16,
    "start_time": "2024-11-17T00:29:01.603Z"
   },
   {
    "duration": 16,
    "start_time": "2024-11-17T00:33:54.516Z"
   },
   {
    "duration": 15,
    "start_time": "2024-11-17T00:35:21.911Z"
   },
   {
    "duration": 16,
    "start_time": "2024-11-17T01:05:07.517Z"
   },
   {
    "duration": 2320,
    "start_time": "2024-11-17T01:08:39.310Z"
   },
   {
    "duration": 1146,
    "start_time": "2024-11-17T01:08:41.632Z"
   },
   {
    "duration": 9,
    "start_time": "2024-11-17T01:08:42.779Z"
   },
   {
    "duration": 3,
    "start_time": "2024-11-17T01:08:42.793Z"
   },
   {
    "duration": 15,
    "start_time": "2024-11-17T01:08:42.810Z"
   },
   {
    "duration": 10,
    "start_time": "2024-11-17T01:08:42.828Z"
   },
   {
    "duration": 4,
    "start_time": "2024-11-17T01:08:42.841Z"
   },
   {
    "duration": 12,
    "start_time": "2024-11-17T01:08:42.848Z"
   },
   {
    "duration": 4,
    "start_time": "2024-11-17T01:08:42.861Z"
   },
   {
    "duration": 25,
    "start_time": "2024-11-17T01:08:42.910Z"
   },
   {
    "duration": 2752,
    "start_time": "2024-11-17T01:08:42.937Z"
   },
   {
    "duration": 3,
    "start_time": "2024-11-17T01:08:45.692Z"
   },
   {
    "duration": 6,
    "start_time": "2024-11-17T01:08:45.708Z"
   },
   {
    "duration": 10,
    "start_time": "2024-11-17T01:08:45.716Z"
   },
   {
    "duration": 10,
    "start_time": "2024-11-17T01:08:45.728Z"
   },
   {
    "duration": 14,
    "start_time": "2024-11-17T01:08:45.740Z"
   },
   {
    "duration": 4,
    "start_time": "2024-11-17T01:08:45.756Z"
   },
   {
    "duration": 0,
    "start_time": "2024-11-17T01:08:45.762Z"
   },
   {
    "duration": 0,
    "start_time": "2024-11-17T01:08:45.763Z"
   },
   {
    "duration": 0,
    "start_time": "2024-11-17T01:08:45.764Z"
   },
   {
    "duration": 0,
    "start_time": "2024-11-17T01:08:45.765Z"
   },
   {
    "duration": 0,
    "start_time": "2024-11-17T01:08:45.766Z"
   },
   {
    "duration": 0,
    "start_time": "2024-11-17T01:08:45.767Z"
   },
   {
    "duration": 0,
    "start_time": "2024-11-17T01:08:45.768Z"
   },
   {
    "duration": 0,
    "start_time": "2024-11-17T01:08:45.810Z"
   },
   {
    "duration": 0,
    "start_time": "2024-11-17T01:08:45.811Z"
   },
   {
    "duration": 0,
    "start_time": "2024-11-17T01:08:45.812Z"
   },
   {
    "duration": 14,
    "start_time": "2024-11-17T01:10:24.837Z"
   },
   {
    "duration": 17,
    "start_time": "2024-11-17T01:11:10.919Z"
   },
   {
    "duration": 5,
    "start_time": "2024-11-17T01:13:24.379Z"
   },
   {
    "duration": 3,
    "start_time": "2024-11-17T01:20:52.513Z"
   },
   {
    "duration": 237,
    "start_time": "2024-11-17T01:47:01.691Z"
   },
   {
    "duration": 2065,
    "start_time": "2024-11-17T03:44:02.025Z"
   },
   {
    "duration": 918,
    "start_time": "2024-11-17T03:44:04.093Z"
   },
   {
    "duration": 9,
    "start_time": "2024-11-17T03:44:05.013Z"
   },
   {
    "duration": 3,
    "start_time": "2024-11-17T03:44:05.023Z"
   },
   {
    "duration": 10,
    "start_time": "2024-11-17T03:44:05.028Z"
   },
   {
    "duration": 11,
    "start_time": "2024-11-17T03:44:05.040Z"
   },
   {
    "duration": 5,
    "start_time": "2024-11-17T03:44:05.055Z"
   },
   {
    "duration": 9,
    "start_time": "2024-11-17T03:44:05.061Z"
   },
   {
    "duration": 3,
    "start_time": "2024-11-17T03:44:05.072Z"
   },
   {
    "duration": 47,
    "start_time": "2024-11-17T03:44:05.076Z"
   },
   {
    "duration": 2524,
    "start_time": "2024-11-17T03:44:05.125Z"
   },
   {
    "duration": 3,
    "start_time": "2024-11-17T03:44:07.651Z"
   },
   {
    "duration": 4,
    "start_time": "2024-11-17T03:44:07.656Z"
   },
   {
    "duration": 8,
    "start_time": "2024-11-17T03:44:07.663Z"
   },
   {
    "duration": 8,
    "start_time": "2024-11-17T03:44:07.673Z"
   },
   {
    "duration": 13,
    "start_time": "2024-11-17T03:44:07.682Z"
   },
   {
    "duration": 13,
    "start_time": "2024-11-17T03:44:07.696Z"
   },
   {
    "duration": 4,
    "start_time": "2024-11-17T03:44:07.710Z"
   },
   {
    "duration": 7,
    "start_time": "2024-11-17T03:44:07.716Z"
   },
   {
    "duration": 3,
    "start_time": "2024-11-17T03:44:07.724Z"
   },
   {
    "duration": 3,
    "start_time": "2024-11-17T03:44:07.729Z"
   },
   {
    "duration": 5,
    "start_time": "2024-11-17T03:44:07.734Z"
   },
   {
    "duration": 0,
    "start_time": "2024-11-17T03:44:07.740Z"
   },
   {
    "duration": 0,
    "start_time": "2024-11-17T03:44:07.742Z"
   },
   {
    "duration": 0,
    "start_time": "2024-11-17T03:44:07.744Z"
   },
   {
    "duration": 0,
    "start_time": "2024-11-17T03:44:07.745Z"
   },
   {
    "duration": 0,
    "start_time": "2024-11-17T03:44:07.746Z"
   },
   {
    "duration": 0,
    "start_time": "2024-11-17T03:44:07.748Z"
   },
   {
    "duration": 3,
    "start_time": "2024-11-17T03:44:31.354Z"
   },
   {
    "duration": 3,
    "start_time": "2024-11-17T03:44:51.825Z"
   },
   {
    "duration": 3,
    "start_time": "2024-11-17T03:45:10.783Z"
   },
   {
    "duration": 4,
    "start_time": "2024-11-17T03:45:15.959Z"
   },
   {
    "duration": 2099,
    "start_time": "2024-11-17T03:50:08.889Z"
   },
   {
    "duration": 935,
    "start_time": "2024-11-17T03:50:10.991Z"
   },
   {
    "duration": 7,
    "start_time": "2024-11-17T03:50:11.928Z"
   },
   {
    "duration": 3,
    "start_time": "2024-11-17T03:50:11.936Z"
   },
   {
    "duration": 9,
    "start_time": "2024-11-17T03:50:11.942Z"
   },
   {
    "duration": 8,
    "start_time": "2024-11-17T03:50:11.953Z"
   },
   {
    "duration": 3,
    "start_time": "2024-11-17T03:50:11.963Z"
   },
   {
    "duration": 8,
    "start_time": "2024-11-17T03:50:11.968Z"
   },
   {
    "duration": 30,
    "start_time": "2024-11-17T03:50:11.979Z"
   },
   {
    "duration": 17,
    "start_time": "2024-11-17T03:50:12.010Z"
   },
   {
    "duration": 2505,
    "start_time": "2024-11-17T03:50:12.028Z"
   },
   {
    "duration": 3,
    "start_time": "2024-11-17T03:50:14.535Z"
   },
   {
    "duration": 4,
    "start_time": "2024-11-17T03:50:14.540Z"
   },
   {
    "duration": 7,
    "start_time": "2024-11-17T03:50:14.548Z"
   },
   {
    "duration": 8,
    "start_time": "2024-11-17T03:50:14.557Z"
   },
   {
    "duration": 13,
    "start_time": "2024-11-17T03:50:14.566Z"
   },
   {
    "duration": 28,
    "start_time": "2024-11-17T03:50:14.581Z"
   },
   {
    "duration": 4,
    "start_time": "2024-11-17T03:50:14.611Z"
   },
   {
    "duration": 5,
    "start_time": "2024-11-17T03:50:14.616Z"
   },
   {
    "duration": 3,
    "start_time": "2024-11-17T03:50:14.623Z"
   },
   {
    "duration": 3,
    "start_time": "2024-11-17T03:50:14.628Z"
   },
   {
    "duration": 3,
    "start_time": "2024-11-17T03:50:14.634Z"
   },
   {
    "duration": 0,
    "start_time": "2024-11-17T03:50:14.639Z"
   },
   {
    "duration": 0,
    "start_time": "2024-11-17T03:50:14.641Z"
   },
   {
    "duration": 0,
    "start_time": "2024-11-17T03:50:14.642Z"
   },
   {
    "duration": 0,
    "start_time": "2024-11-17T03:50:14.643Z"
   },
   {
    "duration": 0,
    "start_time": "2024-11-17T03:50:14.644Z"
   },
   {
    "duration": 0,
    "start_time": "2024-11-17T03:50:14.645Z"
   },
   {
    "duration": 4,
    "start_time": "2024-11-17T03:51:33.914Z"
   },
   {
    "duration": 23,
    "start_time": "2024-11-17T03:53:00.831Z"
   },
   {
    "duration": 3,
    "start_time": "2024-11-17T03:58:29.239Z"
   },
   {
    "duration": 4,
    "start_time": "2024-11-17T04:02:24.932Z"
   },
   {
    "duration": 3,
    "start_time": "2024-11-17T04:02:34.780Z"
   },
   {
    "duration": 3,
    "start_time": "2024-11-17T04:04:52.666Z"
   },
   {
    "duration": 3,
    "start_time": "2024-11-17T04:05:13.367Z"
   },
   {
    "duration": 365,
    "start_time": "2024-11-17T04:05:28.245Z"
   },
   {
    "duration": 22,
    "start_time": "2024-11-17T04:05:58.047Z"
   },
   {
    "duration": 3,
    "start_time": "2024-11-17T04:06:09.662Z"
   },
   {
    "duration": 50,
    "start_time": "2024-11-17T04:06:23.161Z"
   },
   {
    "duration": 3,
    "start_time": "2024-11-17T04:07:04.691Z"
   },
   {
    "duration": 7,
    "start_time": "2024-11-17T04:07:07.056Z"
   },
   {
    "duration": 5,
    "start_time": "2024-11-17T04:07:17.728Z"
   },
   {
    "duration": 78,
    "start_time": "2024-11-17T04:09:13.385Z"
   },
   {
    "duration": 3,
    "start_time": "2024-11-17T04:09:37.388Z"
   },
   {
    "duration": 2,
    "start_time": "2024-11-17T04:09:41.197Z"
   },
   {
    "duration": 3,
    "start_time": "2024-11-17T04:09:43.473Z"
   },
   {
    "duration": 4,
    "start_time": "2024-11-17T04:09:46.064Z"
   },
   {
    "duration": 4,
    "start_time": "2024-11-17T04:14:05.927Z"
   },
   {
    "duration": 7,
    "start_time": "2024-11-17T04:14:51.475Z"
   },
   {
    "duration": 4,
    "start_time": "2024-11-17T04:15:41.745Z"
   },
   {
    "duration": 6,
    "start_time": "2024-11-17T04:16:32.417Z"
   },
   {
    "duration": 27,
    "start_time": "2024-11-17T04:18:28.106Z"
   },
   {
    "duration": 9,
    "start_time": "2024-11-17T04:19:12.270Z"
   },
   {
    "duration": 2341,
    "start_time": "2024-11-19T01:24:47.013Z"
   },
   {
    "duration": 2629,
    "start_time": "2024-11-19T01:24:49.357Z"
   },
   {
    "duration": 12,
    "start_time": "2024-11-19T01:24:51.987Z"
   },
   {
    "duration": 3,
    "start_time": "2024-11-19T01:24:52.001Z"
   },
   {
    "duration": 18,
    "start_time": "2024-11-19T01:24:52.006Z"
   },
   {
    "duration": 9,
    "start_time": "2024-11-19T01:24:52.025Z"
   },
   {
    "duration": 3,
    "start_time": "2024-11-19T01:24:52.035Z"
   },
   {
    "duration": 8,
    "start_time": "2024-11-19T01:24:52.040Z"
   },
   {
    "duration": 2,
    "start_time": "2024-11-19T01:24:52.049Z"
   },
   {
    "duration": 15,
    "start_time": "2024-11-19T01:24:52.053Z"
   },
   {
    "duration": 2482,
    "start_time": "2024-11-19T01:24:52.070Z"
   },
   {
    "duration": 2,
    "start_time": "2024-11-19T01:24:54.555Z"
   },
   {
    "duration": 5,
    "start_time": "2024-11-19T01:24:54.559Z"
   },
   {
    "duration": 8,
    "start_time": "2024-11-19T01:24:54.567Z"
   },
   {
    "duration": 7,
    "start_time": "2024-11-19T01:24:54.577Z"
   },
   {
    "duration": 13,
    "start_time": "2024-11-19T01:24:54.586Z"
   },
   {
    "duration": 28,
    "start_time": "2024-11-19T01:24:54.601Z"
   },
   {
    "duration": 4,
    "start_time": "2024-11-19T01:24:54.631Z"
   },
   {
    "duration": 4,
    "start_time": "2024-11-19T01:24:54.637Z"
   },
   {
    "duration": 3,
    "start_time": "2024-11-19T01:24:54.643Z"
   },
   {
    "duration": 3,
    "start_time": "2024-11-19T01:24:54.648Z"
   },
   {
    "duration": 22,
    "start_time": "2024-11-19T01:24:54.653Z"
   },
   {
    "duration": 3,
    "start_time": "2024-11-19T01:24:54.677Z"
   },
   {
    "duration": 3,
    "start_time": "2024-11-19T01:24:54.682Z"
   },
   {
    "duration": 44,
    "start_time": "2024-11-19T01:24:54.686Z"
   },
   {
    "duration": 4,
    "start_time": "2024-11-19T01:24:54.731Z"
   },
   {
    "duration": 3,
    "start_time": "2024-11-19T01:24:54.738Z"
   },
   {
    "duration": 3,
    "start_time": "2024-11-19T01:24:54.742Z"
   },
   {
    "duration": 3,
    "start_time": "2024-11-19T01:24:54.747Z"
   },
   {
    "duration": 74,
    "start_time": "2024-11-19T01:24:54.752Z"
   },
   {
    "duration": 10,
    "start_time": "2024-11-19T01:24:54.828Z"
   },
   {
    "duration": 646,
    "start_time": "2024-11-19T02:51:30.694Z"
   },
   {
    "duration": 395,
    "start_time": "2024-11-19T02:52:02.721Z"
   },
   {
    "duration": 23,
    "start_time": "2024-11-19T02:53:28.906Z"
   },
   {
    "duration": 2498,
    "start_time": "2024-11-20T01:16:59.278Z"
   },
   {
    "duration": 1049,
    "start_time": "2024-11-20T01:17:01.778Z"
   },
   {
    "duration": 12,
    "start_time": "2024-11-20T01:17:02.828Z"
   },
   {
    "duration": 4,
    "start_time": "2024-11-20T01:17:02.842Z"
   },
   {
    "duration": 11,
    "start_time": "2024-11-20T01:17:02.849Z"
   },
   {
    "duration": 9,
    "start_time": "2024-11-20T01:17:02.862Z"
   },
   {
    "duration": 4,
    "start_time": "2024-11-20T01:17:02.873Z"
   },
   {
    "duration": 8,
    "start_time": "2024-11-20T01:17:02.878Z"
   },
   {
    "duration": 2,
    "start_time": "2024-11-20T01:17:02.888Z"
   },
   {
    "duration": 16,
    "start_time": "2024-11-20T01:17:02.892Z"
   },
   {
    "duration": 2620,
    "start_time": "2024-11-20T01:17:02.943Z"
   },
   {
    "duration": 2,
    "start_time": "2024-11-20T01:17:05.565Z"
   },
   {
    "duration": 4,
    "start_time": "2024-11-20T01:17:05.569Z"
   },
   {
    "duration": 8,
    "start_time": "2024-11-20T01:17:05.577Z"
   },
   {
    "duration": 8,
    "start_time": "2024-11-20T01:17:05.586Z"
   },
   {
    "duration": 14,
    "start_time": "2024-11-20T01:17:05.595Z"
   },
   {
    "duration": 33,
    "start_time": "2024-11-20T01:17:05.611Z"
   },
   {
    "duration": 4,
    "start_time": "2024-11-20T01:17:05.645Z"
   },
   {
    "duration": 6,
    "start_time": "2024-11-20T01:17:05.651Z"
   },
   {
    "duration": 3,
    "start_time": "2024-11-20T01:17:05.659Z"
   },
   {
    "duration": 4,
    "start_time": "2024-11-20T01:17:05.664Z"
   },
   {
    "duration": 24,
    "start_time": "2024-11-20T01:17:05.669Z"
   },
   {
    "duration": 4,
    "start_time": "2024-11-20T01:17:05.695Z"
   },
   {
    "duration": 5,
    "start_time": "2024-11-20T01:17:05.700Z"
   },
   {
    "duration": 12,
    "start_time": "2024-11-20T01:17:05.743Z"
   },
   {
    "duration": 4,
    "start_time": "2024-11-20T01:17:05.756Z"
   },
   {
    "duration": 3,
    "start_time": "2024-11-20T01:17:05.761Z"
   },
   {
    "duration": 2,
    "start_time": "2024-11-20T01:17:05.766Z"
   },
   {
    "duration": 75,
    "start_time": "2024-11-20T01:17:05.770Z"
   },
   {
    "duration": 4,
    "start_time": "2024-11-20T01:17:05.847Z"
   },
   {
    "duration": 10,
    "start_time": "2024-11-20T01:17:05.853Z"
   },
   {
    "duration": 387,
    "start_time": "2024-11-20T01:17:05.865Z"
   },
   {
    "duration": 6,
    "start_time": "2024-11-20T01:25:02.853Z"
   },
   {
    "duration": 173,
    "start_time": "2024-11-20T21:39:27.948Z"
   },
   {
    "duration": 2341,
    "start_time": "2024-11-20T21:39:39.569Z"
   },
   {
    "duration": 2644,
    "start_time": "2024-11-20T21:39:41.913Z"
   },
   {
    "duration": 63,
    "start_time": "2024-11-20T21:39:44.559Z"
   },
   {
    "duration": 3,
    "start_time": "2024-11-20T21:39:44.624Z"
   },
   {
    "duration": 10,
    "start_time": "2024-11-20T21:39:44.629Z"
   },
   {
    "duration": 9,
    "start_time": "2024-11-20T21:39:44.640Z"
   },
   {
    "duration": 3,
    "start_time": "2024-11-20T21:39:44.650Z"
   },
   {
    "duration": 8,
    "start_time": "2024-11-20T21:39:44.655Z"
   },
   {
    "duration": 3,
    "start_time": "2024-11-20T21:39:44.664Z"
   },
   {
    "duration": 52,
    "start_time": "2024-11-20T21:39:44.671Z"
   },
   {
    "duration": 2605,
    "start_time": "2024-11-20T21:39:44.725Z"
   },
   {
    "duration": 3,
    "start_time": "2024-11-20T21:39:47.331Z"
   },
   {
    "duration": 4,
    "start_time": "2024-11-20T21:39:47.336Z"
   },
   {
    "duration": 9,
    "start_time": "2024-11-20T21:39:47.342Z"
   },
   {
    "duration": 8,
    "start_time": "2024-11-20T21:39:47.352Z"
   },
   {
    "duration": 16,
    "start_time": "2024-11-20T21:39:47.362Z"
   },
   {
    "duration": 30,
    "start_time": "2024-11-20T21:39:47.380Z"
   },
   {
    "duration": 3,
    "start_time": "2024-11-20T21:39:47.412Z"
   },
   {
    "duration": 5,
    "start_time": "2024-11-20T21:39:47.417Z"
   },
   {
    "duration": 4,
    "start_time": "2024-11-20T21:39:47.424Z"
   },
   {
    "duration": 3,
    "start_time": "2024-11-20T21:39:47.429Z"
   },
   {
    "duration": 23,
    "start_time": "2024-11-20T21:39:47.434Z"
   },
   {
    "duration": 4,
    "start_time": "2024-11-20T21:39:47.459Z"
   },
   {
    "duration": 3,
    "start_time": "2024-11-20T21:39:47.465Z"
   },
   {
    "duration": 52,
    "start_time": "2024-11-20T21:39:47.470Z"
   },
   {
    "duration": 5,
    "start_time": "2024-11-20T21:39:47.524Z"
   },
   {
    "duration": 3,
    "start_time": "2024-11-20T21:39:47.531Z"
   },
   {
    "duration": 72,
    "start_time": "2024-11-20T21:39:47.538Z"
   },
   {
    "duration": 6,
    "start_time": "2024-11-20T21:39:47.613Z"
   },
   {
    "duration": 6,
    "start_time": "2024-11-20T21:39:47.622Z"
   },
   {
    "duration": 8,
    "start_time": "2024-11-20T21:39:47.631Z"
   },
   {
    "duration": 401,
    "start_time": "2024-11-20T21:39:47.643Z"
   },
   {
    "duration": 2610,
    "start_time": "2024-11-21T15:33:25.343Z"
   },
   {
    "duration": 3260,
    "start_time": "2024-11-21T15:33:27.955Z"
   },
   {
    "duration": 13,
    "start_time": "2024-11-21T15:33:31.216Z"
   },
   {
    "duration": 4,
    "start_time": "2024-11-21T15:33:31.230Z"
   },
   {
    "duration": 11,
    "start_time": "2024-11-21T15:33:31.237Z"
   },
   {
    "duration": 16,
    "start_time": "2024-11-21T15:33:31.250Z"
   },
   {
    "duration": 4,
    "start_time": "2024-11-21T15:33:31.269Z"
   },
   {
    "duration": 30,
    "start_time": "2024-11-21T15:33:31.275Z"
   },
   {
    "duration": 3,
    "start_time": "2024-11-21T15:33:31.307Z"
   },
   {
    "duration": 18,
    "start_time": "2024-11-21T15:33:31.312Z"
   },
   {
    "duration": 2978,
    "start_time": "2024-11-21T15:33:31.332Z"
   },
   {
    "duration": 3,
    "start_time": "2024-11-21T15:33:34.312Z"
   },
   {
    "duration": 5,
    "start_time": "2024-11-21T15:33:34.316Z"
   },
   {
    "duration": 8,
    "start_time": "2024-11-21T15:33:34.324Z"
   },
   {
    "duration": 8,
    "start_time": "2024-11-21T15:33:34.334Z"
   },
   {
    "duration": 13,
    "start_time": "2024-11-21T15:33:34.344Z"
   },
   {
    "duration": 14,
    "start_time": "2024-11-21T15:33:34.358Z"
   },
   {
    "duration": 33,
    "start_time": "2024-11-21T15:33:34.374Z"
   },
   {
    "duration": 6,
    "start_time": "2024-11-21T15:33:34.409Z"
   },
   {
    "duration": 4,
    "start_time": "2024-11-21T15:33:34.416Z"
   },
   {
    "duration": 3,
    "start_time": "2024-11-21T15:33:34.422Z"
   },
   {
    "duration": 25,
    "start_time": "2024-11-21T15:33:34.427Z"
   },
   {
    "duration": 4,
    "start_time": "2024-11-21T15:33:34.454Z"
   },
   {
    "duration": 4,
    "start_time": "2024-11-21T15:33:34.460Z"
   },
   {
    "duration": 9,
    "start_time": "2024-11-21T15:33:34.506Z"
   },
   {
    "duration": 4,
    "start_time": "2024-11-21T15:33:34.517Z"
   },
   {
    "duration": 3,
    "start_time": "2024-11-21T15:33:34.523Z"
   },
   {
    "duration": 3,
    "start_time": "2024-11-21T15:33:34.527Z"
   },
   {
    "duration": 75,
    "start_time": "2024-11-21T15:33:34.532Z"
   },
   {
    "duration": 7,
    "start_time": "2024-11-21T15:33:34.609Z"
   },
   {
    "duration": 91,
    "start_time": "2024-11-21T15:33:34.620Z"
   },
   {
    "duration": 544,
    "start_time": "2024-11-21T15:33:34.716Z"
   },
   {
    "duration": 2275,
    "start_time": "2024-11-21T15:34:30.822Z"
   },
   {
    "duration": 1001,
    "start_time": "2024-11-21T15:34:33.099Z"
   },
   {
    "duration": 24,
    "start_time": "2024-11-21T15:34:34.102Z"
   },
   {
    "duration": 4,
    "start_time": "2024-11-21T15:34:34.127Z"
   },
   {
    "duration": 15,
    "start_time": "2024-11-21T15:34:34.133Z"
   },
   {
    "duration": 10,
    "start_time": "2024-11-21T15:34:34.150Z"
   },
   {
    "duration": 3,
    "start_time": "2024-11-21T15:34:34.162Z"
   },
   {
    "duration": 8,
    "start_time": "2024-11-21T15:34:34.167Z"
   },
   {
    "duration": 3,
    "start_time": "2024-11-21T15:34:34.176Z"
   },
   {
    "duration": 37,
    "start_time": "2024-11-21T15:34:34.180Z"
   },
   {
    "duration": 2538,
    "start_time": "2024-11-21T15:34:34.219Z"
   },
   {
    "duration": 3,
    "start_time": "2024-11-21T15:34:36.759Z"
   },
   {
    "duration": 4,
    "start_time": "2024-11-21T15:34:36.763Z"
   },
   {
    "duration": 8,
    "start_time": "2024-11-21T15:34:36.770Z"
   },
   {
    "duration": 8,
    "start_time": "2024-11-21T15:34:36.780Z"
   },
   {
    "duration": 21,
    "start_time": "2024-11-21T15:34:36.789Z"
   },
   {
    "duration": 12,
    "start_time": "2024-11-21T15:34:36.812Z"
   },
   {
    "duration": 3,
    "start_time": "2024-11-21T15:34:36.826Z"
   },
   {
    "duration": 5,
    "start_time": "2024-11-21T15:34:36.830Z"
   },
   {
    "duration": 3,
    "start_time": "2024-11-21T15:34:36.836Z"
   },
   {
    "duration": 4,
    "start_time": "2024-11-21T15:34:36.840Z"
   },
   {
    "duration": 22,
    "start_time": "2024-11-21T15:34:36.847Z"
   },
   {
    "duration": 34,
    "start_time": "2024-11-21T15:34:36.871Z"
   },
   {
    "duration": 4,
    "start_time": "2024-11-21T15:34:36.907Z"
   },
   {
    "duration": 13,
    "start_time": "2024-11-21T15:34:36.912Z"
   },
   {
    "duration": 3,
    "start_time": "2024-11-21T15:34:36.927Z"
   },
   {
    "duration": 3,
    "start_time": "2024-11-21T15:34:36.932Z"
   },
   {
    "duration": 68,
    "start_time": "2024-11-21T15:34:36.937Z"
   },
   {
    "duration": 4,
    "start_time": "2024-11-21T15:34:37.007Z"
   },
   {
    "duration": 5,
    "start_time": "2024-11-21T15:34:37.013Z"
   },
   {
    "duration": 9,
    "start_time": "2024-11-21T15:34:37.020Z"
   },
   {
    "duration": 14,
    "start_time": "2024-11-21T15:34:37.106Z"
   },
   {
    "duration": 2393,
    "start_time": "2024-11-22T04:44:15.184Z"
   },
   {
    "duration": 2638,
    "start_time": "2024-11-22T04:44:17.580Z"
   },
   {
    "duration": 12,
    "start_time": "2024-11-22T04:44:20.220Z"
   },
   {
    "duration": 3,
    "start_time": "2024-11-22T04:44:20.234Z"
   },
   {
    "duration": 10,
    "start_time": "2024-11-22T04:44:20.239Z"
   },
   {
    "duration": 9,
    "start_time": "2024-11-22T04:44:20.250Z"
   },
   {
    "duration": 3,
    "start_time": "2024-11-22T04:44:20.260Z"
   },
   {
    "duration": 7,
    "start_time": "2024-11-22T04:44:20.265Z"
   },
   {
    "duration": 2,
    "start_time": "2024-11-22T04:44:20.274Z"
   },
   {
    "duration": 48,
    "start_time": "2024-11-22T04:44:20.278Z"
   },
   {
    "duration": 2543,
    "start_time": "2024-11-22T04:44:20.327Z"
   },
   {
    "duration": 2,
    "start_time": "2024-11-22T04:44:22.872Z"
   },
   {
    "duration": 4,
    "start_time": "2024-11-22T04:44:22.876Z"
   },
   {
    "duration": 103,
    "start_time": "2024-11-22T04:44:22.884Z"
   },
   {
    "duration": 9,
    "start_time": "2024-11-22T04:44:22.988Z"
   },
   {
    "duration": 25,
    "start_time": "2024-11-22T04:44:22.998Z"
   },
   {
    "duration": 16,
    "start_time": "2024-11-22T04:44:23.024Z"
   },
   {
    "duration": 3,
    "start_time": "2024-11-22T04:44:23.043Z"
   },
   {
    "duration": 5,
    "start_time": "2024-11-22T04:44:23.048Z"
   },
   {
    "duration": 3,
    "start_time": "2024-11-22T04:44:23.055Z"
   },
   {
    "duration": 3,
    "start_time": "2024-11-22T04:44:23.060Z"
   },
   {
    "duration": 23,
    "start_time": "2024-11-22T04:44:23.064Z"
   },
   {
    "duration": 37,
    "start_time": "2024-11-22T04:44:23.089Z"
   },
   {
    "duration": 3,
    "start_time": "2024-11-22T04:44:23.128Z"
   },
   {
    "duration": 7,
    "start_time": "2024-11-22T04:44:23.133Z"
   },
   {
    "duration": 7,
    "start_time": "2024-11-22T04:44:23.141Z"
   },
   {
    "duration": 4,
    "start_time": "2024-11-22T04:44:23.150Z"
   },
   {
    "duration": 68,
    "start_time": "2024-11-22T04:44:23.157Z"
   },
   {
    "duration": 4,
    "start_time": "2024-11-22T04:44:23.227Z"
   },
   {
    "duration": 7,
    "start_time": "2024-11-22T04:44:23.232Z"
   },
   {
    "duration": 83,
    "start_time": "2024-11-22T04:44:23.241Z"
   },
   {
    "duration": 19,
    "start_time": "2024-11-22T04:44:23.326Z"
   }
  ],
  "kernelspec": {
   "display_name": "Python 3",
   "language": "python",
   "name": "python3"
  },
  "language_info": {
   "codemirror_mode": {
    "name": "ipython",
    "version": 3
   },
   "file_extension": ".py",
   "mimetype": "text/x-python",
   "name": "python",
   "nbconvert_exporter": "python",
   "pygments_lexer": "ipython3",
   "version": "3.12.3"
  },
  "toc": {
   "base_numbering": 1,
   "nav_menu": {},
   "number_sections": true,
   "sideBar": true,
   "skip_h1_title": true,
   "title_cell": "Table of Contents",
   "title_sidebar": "Contents",
   "toc_cell": false,
   "toc_position": {},
   "toc_section_display": true,
   "toc_window_display": false
  }
 },
 "nbformat": 4,
 "nbformat_minor": 4
}
